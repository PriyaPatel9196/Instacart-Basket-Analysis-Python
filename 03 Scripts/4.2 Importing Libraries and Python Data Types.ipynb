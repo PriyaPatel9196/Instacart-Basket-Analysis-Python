{
 "cells": [
  {
   "cell_type": "markdown",
   "id": "3b6a1105",
   "metadata": {},
   "source": [
    "# 4.2 Importing Libraries and Python Data Types"
   ]
  },
  {
   "cell_type": "markdown",
   "id": "6f65b259",
   "metadata": {},
   "source": [
    "## This script contains the following points:"
   ]
  },
  {
   "cell_type": "markdown",
   "id": "a9b67ccf",
   "metadata": {},
   "source": [
    "### 1. Code 3 different ways of reaching a result of 100 by adding or subtracting numeric variables"
   ]
  },
  {
   "cell_type": "markdown",
   "id": "0de08d50",
   "metadata": {},
   "source": [
    "### 2. Code 2 floating-point variables and divide them by each other"
   ]
  },
  {
   "cell_type": "markdown",
   "id": "75b7209c",
   "metadata": {},
   "source": [
    "### 3. Construct a short word made of separate strings"
   ]
  },
  {
   "cell_type": "markdown",
   "id": "e459d503",
   "metadata": {},
   "source": [
    "### 4. Construct 2 short sentences made of separate strings"
   ]
  },
  {
   "cell_type": "markdown",
   "id": "3ebdefb9",
   "metadata": {},
   "source": [
    "# 01. Importing libraries"
   ]
  },
  {
   "cell_type": "code",
   "execution_count": 1,
   "id": "479dd112",
   "metadata": {},
   "outputs": [],
   "source": [
    "# Import libraries\n",
    "import pandas as pd\n",
    "import numpy as np\n",
    "import os"
   ]
  },
  {
   "cell_type": "markdown",
   "id": "324d357a",
   "metadata": {},
   "source": [
    "# 02. Python data types"
   ]
  },
  {
   "cell_type": "markdown",
   "id": "a129b281",
   "metadata": {},
   "source": [
    "## 1. Code 3 different ways of reaching a result of 100 by adding or subtracting numeric variables"
   ]
  },
  {
   "cell_type": "code",
   "execution_count": 12,
   "id": "83fb5bda",
   "metadata": {},
   "outputs": [],
   "source": [
    "x = 90\n",
    "y = 10\n",
    "z = 110"
   ]
  },
  {
   "cell_type": "code",
   "execution_count": 13,
   "id": "f90912f6",
   "metadata": {},
   "outputs": [],
   "source": [
    "x = x + y"
   ]
  },
  {
   "cell_type": "code",
   "execution_count": 14,
   "id": "51a6ecf8",
   "metadata": {},
   "outputs": [
    {
     "name": "stdout",
     "output_type": "stream",
     "text": [
      "100\n"
     ]
    }
   ],
   "source": [
    "print(x)"
   ]
  },
  {
   "cell_type": "code",
   "execution_count": 21,
   "id": "ff7cfeb0",
   "metadata": {},
   "outputs": [
    {
     "data": {
      "text/plain": [
       "100"
      ]
     },
     "execution_count": 21,
     "metadata": {},
     "output_type": "execute_result"
    }
   ],
   "source": [
    "z - y"
   ]
  },
  {
   "cell_type": "code",
   "execution_count": 22,
   "id": "2dbfd507",
   "metadata": {},
   "outputs": [],
   "source": [
    "x = x + z - 120"
   ]
  },
  {
   "cell_type": "code",
   "execution_count": 23,
   "id": "62669392",
   "metadata": {},
   "outputs": [
    {
     "data": {
      "text/plain": [
       "100"
      ]
     },
     "execution_count": 23,
     "metadata": {},
     "output_type": "execute_result"
    }
   ],
   "source": [
    "x"
   ]
  },
  {
   "cell_type": "code",
   "execution_count": 24,
   "id": "85c5af98",
   "metadata": {},
   "outputs": [
    {
     "data": {
      "text/plain": [
       "100"
      ]
     },
     "execution_count": 24,
     "metadata": {},
     "output_type": "execute_result"
    }
   ],
   "source": [
    "y * 10"
   ]
  },
  {
   "cell_type": "markdown",
   "id": "2d99a9b0",
   "metadata": {},
   "source": [
    "## 2. Code 2 floating-point variables and divide them by each other"
   ]
  },
  {
   "cell_type": "code",
   "execution_count": 25,
   "id": "3208ec00",
   "metadata": {},
   "outputs": [],
   "source": [
    "a = 6.45\n",
    "b = 2.21"
   ]
  },
  {
   "cell_type": "code",
   "execution_count": 26,
   "id": "b77440ff",
   "metadata": {},
   "outputs": [
    {
     "data": {
      "text/plain": [
       "2.9185520361990953"
      ]
     },
     "execution_count": 26,
     "metadata": {},
     "output_type": "execute_result"
    }
   ],
   "source": [
    "a/b"
   ]
  },
  {
   "cell_type": "markdown",
   "id": "9e8648e6",
   "metadata": {},
   "source": [
    "## 3. Construct a short word made of separate strings"
   ]
  },
  {
   "cell_type": "code",
   "execution_count": 27,
   "id": "745586eb",
   "metadata": {},
   "outputs": [],
   "source": [
    "p = 'Ice-'\n",
    "q = 'cream'"
   ]
  },
  {
   "cell_type": "code",
   "execution_count": 28,
   "id": "ad248637",
   "metadata": {},
   "outputs": [
    {
     "data": {
      "text/plain": [
       "'Ice-cream'"
      ]
     },
     "execution_count": 28,
     "metadata": {},
     "output_type": "execute_result"
    }
   ],
   "source": [
    "p + q"
   ]
  },
  {
   "cell_type": "markdown",
   "id": "a0b06e37",
   "metadata": {},
   "source": [
    "## 4. Construct 2 short sentences made of separate strings"
   ]
  },
  {
   "cell_type": "code",
   "execution_count": 31,
   "id": "b86007f8",
   "metadata": {},
   "outputs": [],
   "source": [
    "p = 'Hello Raj,'\n",
    "q = ' How are you?'"
   ]
  },
  {
   "cell_type": "code",
   "execution_count": 32,
   "id": "fa751a1d",
   "metadata": {},
   "outputs": [
    {
     "data": {
      "text/plain": [
       "'Hello Raj, How are you?'"
      ]
     },
     "execution_count": 32,
     "metadata": {},
     "output_type": "execute_result"
    }
   ],
   "source": [
    "p + q"
   ]
  },
  {
   "cell_type": "code",
   "execution_count": null,
   "id": "bf882552",
   "metadata": {},
   "outputs": [],
   "source": []
  }
 ],
 "metadata": {
  "kernelspec": {
   "display_name": "Python 3 (ipykernel)",
   "language": "python",
   "name": "python3"
  },
  "language_info": {
   "codemirror_mode": {
    "name": "ipython",
    "version": 3
   },
   "file_extension": ".py",
   "mimetype": "text/x-python",
   "name": "python",
   "nbconvert_exporter": "python",
   "pygments_lexer": "ipython3",
   "version": "3.11.5"
  }
 },
 "nbformat": 4,
 "nbformat_minor": 5
}
