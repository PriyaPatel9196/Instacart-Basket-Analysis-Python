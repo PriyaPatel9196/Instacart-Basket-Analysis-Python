{
 "cells": [
  {
   "cell_type": "markdown",
   "id": "99cdb619",
   "metadata": {},
   "source": [
    "# 4.10 Coding Etiquette & Excel Reporting"
   ]
  },
  {
   "cell_type": "markdown",
   "id": "edfc1e03",
   "metadata": {},
   "source": [
    "## This script contains the following points:"
   ]
  },
  {
   "cell_type": "markdown",
   "id": "f8106260",
   "metadata": {},
   "source": [
    "### 1. Assessing security implications."
   ]
  },
  {
   "cell_type": "markdown",
   "id": "608eefbd",
   "metadata": {},
   "source": [
    "### 2. Create region column."
   ]
  },
  {
   "cell_type": "markdown",
   "id": "1c1df91a",
   "metadata": {},
   "source": [
    "### 3. Analyze spending in each region."
   ]
  },
  {
   "cell_type": "markdown",
   "id": "fedde926",
   "metadata": {},
   "source": [
    "### 4. Create table without low-activity customers."
   ]
  },
  {
   "cell_type": "markdown",
   "id": "1ef8cbfd",
   "metadata": {},
   "source": [
    "### 5. Analyze customer ordering behavior."
   ]
  },
  {
   "cell_type": "markdown",
   "id": "626c1510",
   "metadata": {},
   "source": [
    "   ### (1) Create a customer shopping behavior flag based on order timing."
   ]
  },
  {
   "cell_type": "markdown",
   "id": "b87698f2",
   "metadata": {},
   "source": [
    "### (2) Find statistics for shopping behavior based on order number."
   ]
  },
  {
   "cell_type": "markdown",
   "id": "6c5821c4",
   "metadata": {},
   "source": [
    "### (3) Find statistics for shopping behavior based on expenditure."
   ]
  },
  {
   "cell_type": "markdown",
   "id": "7c7c428d",
   "metadata": {},
   "source": [
    "### (4) Analyze customer shopping behavior by department."
   ]
  },
  {
   "cell_type": "markdown",
   "id": "fe257538",
   "metadata": {},
   "source": [
    "### (5) Analyze customer shopping behavior by region."
   ]
  },
  {
   "cell_type": "markdown",
   "id": "bd4bfe98",
   "metadata": {},
   "source": [
    "### 6. Analyze customer lifestyle."
   ]
  },
  {
   "cell_type": "markdown",
   "id": "09192d0f",
   "metadata": {},
   "source": [
    "### (1) Create a customer lifestyle flag based on income and marital status."
   ]
  },
  {
   "cell_type": "markdown",
   "id": "6d664f7c",
   "metadata": {},
   "source": [
    "### (2) Find statistics for lifestyle based on order number."
   ]
  },
  {
   "cell_type": "markdown",
   "id": "fe787560",
   "metadata": {},
   "source": [
    "### (3) Find statistics for lifestyle based on expenditure."
   ]
  },
  {
   "cell_type": "markdown",
   "id": "bbfa842f",
   "metadata": {},
   "source": [
    "### (4) Analyze customer shopping behavior by region."
   ]
  },
  {
   "cell_type": "markdown",
   "id": "f8d8b0fe",
   "metadata": {},
   "source": [
    "### 7. Export tables and plots."
   ]
  },
  {
   "cell_type": "markdown",
   "id": "4f4b8c61",
   "metadata": {},
   "source": [
    "# 01. Importing libraries"
   ]
  },
  {
   "cell_type": "code",
   "execution_count": 1,
   "id": "01818ffe",
   "metadata": {},
   "outputs": [],
   "source": [
    "# Import libraries\n",
    "import pandas as pd\n",
    "import numpy as np\n",
    "import os\n",
    "import matplotlib.pyplot as plt\n",
    "import seaborn as sns\n",
    "import scipy\n",
    "import warnings"
   ]
  },
  {
   "cell_type": "code",
   "execution_count": 2,
   "id": "43fe8b7e",
   "metadata": {},
   "outputs": [],
   "source": [
    "warnings.filterwarnings('ignore')"
   ]
  },
  {
   "cell_type": "markdown",
   "id": "5edbd9f8",
   "metadata": {},
   "source": [
    "# 02. Importing data"
   ]
  },
  {
   "cell_type": "code",
   "execution_count": 3,
   "id": "d052e695",
   "metadata": {},
   "outputs": [],
   "source": [
    "path = r'C:\\Users\\Priya\\27-02-2024 Instacart Basket Analysis'"
   ]
  },
  {
   "cell_type": "code",
   "execution_count": 4,
   "id": "c536a2fe",
   "metadata": {},
   "outputs": [
    {
     "data": {
      "text/plain": [
       "'C:\\\\Users\\\\Priya\\\\27-02-2024 Instacart Basket Analysis'"
      ]
     },
     "execution_count": 4,
     "metadata": {},
     "output_type": "execute_result"
    }
   ],
   "source": [
    "path"
   ]
  },
  {
   "cell_type": "code",
   "execution_count": 5,
   "id": "fa9b2e4e",
   "metadata": {},
   "outputs": [],
   "source": [
    "# Import ords_prods_all dataframe\n",
    "df_ords_prods_all = pd.read_pickle(os.path.join(path, '02 Data', 'Prepared Data', 'orders_products_all.pkl'))"
   ]
  },
  {
   "cell_type": "markdown",
   "id": "0907fa8d",
   "metadata": {},
   "source": [
    "## 1. Assessing security implications."
   ]
  },
  {
   "cell_type": "code",
   "execution_count": 6,
   "id": "2e5a6199",
   "metadata": {},
   "outputs": [
    {
     "data": {
      "text/plain": [
       "Index(['product_id', 'product_name', 'aisle_id', 'department_id', 'prices',\n",
       "       'order_id', 'user_id', 'order_number', 'orders_day_of_week',\n",
       "       'order_hour_of_day', 'days_since_prior_order', 'first_order',\n",
       "       'add_to_cart_order', 'reordered', 'price_range_loc', 'busiest_day',\n",
       "       'busiest_days', 'busiest_period_of_day', 'max_order', 'loyalty_flag',\n",
       "       'average spent', 'spending flag', 'regularity', 'order frequency flag',\n",
       "       'First Name', 'Last Name', 'Gender', 'State', 'Age',\n",
       "       'Number_of_Dependants', 'Familial_Status', 'income', '_merge'],\n",
       "      dtype='object')"
      ]
     },
     "execution_count": 6,
     "metadata": {},
     "output_type": "execute_result"
    }
   ],
   "source": [
    "# Check table column names\n",
    "df_ords_prods_all.columns"
   ]
  },
  {
   "cell_type": "markdown",
   "id": "4c866183",
   "metadata": {},
   "source": [
    "### As seen in the previous table, we had columns that refer to client First Name and Last Name, as well as gender, state, age, family status and number of dependants. Put together, these columns are personally identifiable information (PII). In order to protect the client, we should remove the most personal information that is the least crucial to our analysis. In this case, it is the client name columns."
   ]
  },
  {
   "cell_type": "code",
   "execution_count": 7,
   "id": "8fbc4ff3",
   "metadata": {},
   "outputs": [],
   "source": [
    "# Remove the 'First Name' and 'Last Name' columns for security reason\n",
    "df_ords_prods_all.drop(['First Name', 'Last Name'], axis=1, inplace = True)"
   ]
  },
  {
   "cell_type": "code",
   "execution_count": 8,
   "id": "bc2c8d89",
   "metadata": {
    "scrolled": true
   },
   "outputs": [
    {
     "data": {
      "text/plain": [
       "Index(['product_id', 'product_name', 'aisle_id', 'department_id', 'prices',\n",
       "       'order_id', 'user_id', 'order_number', 'orders_day_of_week',\n",
       "       'order_hour_of_day', 'days_since_prior_order', 'first_order',\n",
       "       'add_to_cart_order', 'reordered', 'price_range_loc', 'busiest_day',\n",
       "       'busiest_days', 'busiest_period_of_day', 'max_order', 'loyalty_flag',\n",
       "       'average spent', 'spending flag', 'regularity', 'order frequency flag',\n",
       "       'Gender', 'State', 'Age', 'Number_of_Dependants', 'Familial_Status',\n",
       "       'income', '_merge'],\n",
       "      dtype='object')"
      ]
     },
     "execution_count": 8,
     "metadata": {},
     "output_type": "execute_result"
    }
   ],
   "source": [
    "# Check that the columns were removed\n",
    "df_ords_prods_all.columns"
   ]
  },
  {
   "cell_type": "markdown",
   "id": "6ff92639",
   "metadata": {},
   "source": [
    "## 2. Create region column."
   ]
  },
  {
   "cell_type": "code",
   "execution_count": 9,
   "id": "40493f47",
   "metadata": {},
   "outputs": [],
   "source": [
    "# Creating list of states into Northeast Region\n",
    "Northeast_states = ['Maine', 'New Hampshire', 'Vermont', 'Massachusetts', 'Rhode Island', 'Connecticut', 'New York', 'Pennsylvania', 'New Jersey']"
   ]
  },
  {
   "cell_type": "code",
   "execution_count": 10,
   "id": "0cef42f6",
   "metadata": {},
   "outputs": [],
   "source": [
    "# Creating list of states into Midwest Region\n",
    "Midwest_states = ['Wisconsin', 'Michigan', 'Illinois', 'Indiana', 'Ohio', 'North Dakota', 'South Dakota', 'Nebraska', 'Kansas', 'Minnesota', 'Iowa', 'Missouri']"
   ]
  },
  {
   "cell_type": "code",
   "execution_count": 11,
   "id": "0c9ff505",
   "metadata": {},
   "outputs": [],
   "source": [
    "# Creating list of states into South Region\n",
    "South_states = ['Delaware', 'Maryland', 'District of Columbia', 'Virginia', 'West Virginia', 'North Carolina', 'South Carolina', 'Georgia', 'Florida', 'Kentucky', 'Tennessee', 'Mississippi', 'Alabama', 'Oklahoma', 'Texas', 'Arkansas', 'Louisiana']"
   ]
  },
  {
   "cell_type": "code",
   "execution_count": 12,
   "id": "6db46dc2",
   "metadata": {},
   "outputs": [],
   "source": [
    "# Creating list of states into West Region\n",
    "West_states = ['Idaho', 'Montana', 'Wyoming', 'Nevada', 'Utah', 'Colorado', 'Arizona', 'New Mexico', 'Alaska', 'Washington', 'Oregon', 'California', 'Hawaii']"
   ]
  },
  {
   "cell_type": "code",
   "execution_count": 13,
   "id": "4b62ba62",
   "metadata": {},
   "outputs": [],
   "source": [
    "# Set the Region for each state in the table\n",
    "df_ords_prods_all.loc[df_ords_prods_all['State'].isin(Northeast_states), 'Region'] = 'Northeast'"
   ]
  },
  {
   "cell_type": "code",
   "execution_count": 14,
   "id": "8aed2f30",
   "metadata": {},
   "outputs": [],
   "source": [
    "df_ords_prods_all.loc[df_ords_prods_all['State'].isin(Midwest_states), 'Region'] = 'Midwest'"
   ]
  },
  {
   "cell_type": "code",
   "execution_count": 15,
   "id": "5427c989",
   "metadata": {},
   "outputs": [],
   "source": [
    "df_ords_prods_all.loc[df_ords_prods_all['State'].isin(South_states), 'Region'] = 'South'"
   ]
  },
  {
   "cell_type": "code",
   "execution_count": 16,
   "id": "5aca58d3",
   "metadata": {},
   "outputs": [],
   "source": [
    "df_ords_prods_all.loc[df_ords_prods_all['State'].isin(West_states), 'Region'] = 'West'"
   ]
  },
  {
   "cell_type": "code",
   "execution_count": 17,
   "id": "07019060",
   "metadata": {},
   "outputs": [
    {
     "data": {
      "text/plain": [
       "Region\n",
       "South        10791885\n",
       "West          8292913\n",
       "Midwest       7597325\n",
       "Northeast     5722736\n",
       "Name: count, dtype: int64"
      ]
     },
     "execution_count": 17,
     "metadata": {},
     "output_type": "execute_result"
    }
   ],
   "source": [
    "# Find value counts for each region to check for assignment completion\n",
    "df_ords_prods_all['Region'].value_counts(dropna = False)"
   ]
  },
  {
   "cell_type": "markdown",
   "id": "20870c70",
   "metadata": {},
   "source": [
    "## 3. Analyze spending in each region."
   ]
  },
  {
   "cell_type": "code",
   "execution_count": 18,
   "id": "6d62cb5b",
   "metadata": {},
   "outputs": [],
   "source": [
    "# Create table for region and spending flag\n",
    "region_spending = pd.crosstab(df_ords_prods_all['Region'], df_ords_prods_all['spending flag'], dropna = False)"
   ]
  },
  {
   "cell_type": "code",
   "execution_count": 19,
   "id": "712e4d47",
   "metadata": {},
   "outputs": [
    {
     "data": {
      "text/html": [
       "<div>\n",
       "<style scoped>\n",
       "    .dataframe tbody tr th:only-of-type {\n",
       "        vertical-align: middle;\n",
       "    }\n",
       "\n",
       "    .dataframe tbody tr th {\n",
       "        vertical-align: top;\n",
       "    }\n",
       "\n",
       "    .dataframe thead th {\n",
       "        text-align: right;\n",
       "    }\n",
       "</style>\n",
       "<table border=\"1\" class=\"dataframe\">\n",
       "  <thead>\n",
       "    <tr style=\"text-align: right;\">\n",
       "      <th>spending flag</th>\n",
       "      <th>High spender</th>\n",
       "      <th>Low spender</th>\n",
       "    </tr>\n",
       "    <tr>\n",
       "      <th>Region</th>\n",
       "      <th></th>\n",
       "      <th></th>\n",
       "    </tr>\n",
       "  </thead>\n",
       "  <tbody>\n",
       "    <tr>\n",
       "      <th>Midwest</th>\n",
       "      <td>29265</td>\n",
       "      <td>7568060</td>\n",
       "    </tr>\n",
       "    <tr>\n",
       "      <th>Northeast</th>\n",
       "      <td>18642</td>\n",
       "      <td>5704094</td>\n",
       "    </tr>\n",
       "    <tr>\n",
       "      <th>South</th>\n",
       "      <td>40564</td>\n",
       "      <td>10751321</td>\n",
       "    </tr>\n",
       "    <tr>\n",
       "      <th>West</th>\n",
       "      <td>31223</td>\n",
       "      <td>8261690</td>\n",
       "    </tr>\n",
       "  </tbody>\n",
       "</table>\n",
       "</div>"
      ],
      "text/plain": [
       "spending flag  High spender  Low spender\n",
       "Region                                  \n",
       "Midwest               29265      7568060\n",
       "Northeast             18642      5704094\n",
       "South                 40564     10751321\n",
       "West                  31223      8261690"
      ]
     },
     "execution_count": 19,
     "metadata": {},
     "output_type": "execute_result"
    }
   ],
   "source": [
    "# View table\n",
    "region_spending"
   ]
  },
  {
   "cell_type": "markdown",
   "id": "c8509901",
   "metadata": {},
   "source": [
    "## 4. Create table without low-activity customers."
   ]
  },
  {
   "cell_type": "code",
   "execution_count": 20,
   "id": "a1d56695",
   "metadata": {},
   "outputs": [],
   "source": [
    "# Create low-activity flag\n",
    "df_ords_prods_all.loc[df_ords_prods_all['order_number'] < 5, 'low_spender'] = 'Yes'"
   ]
  },
  {
   "cell_type": "code",
   "execution_count": 21,
   "id": "8d3de44b",
   "metadata": {},
   "outputs": [],
   "source": [
    "df_ords_prods_all.loc[df_ords_prods_all['order_number'] >= 5, 'low_spender'] = 'No'"
   ]
  },
  {
   "cell_type": "code",
   "execution_count": 22,
   "id": "28fb5d0e",
   "metadata": {},
   "outputs": [],
   "source": [
    "# Create table including only mid to high_activity customers\n",
    "mid_high_spender = df_ords_prods_all[df_ords_prods_all['low_spender'] == 'No']"
   ]
  },
  {
   "cell_type": "code",
   "execution_count": 23,
   "id": "b283ea24",
   "metadata": {},
   "outputs": [
    {
     "data": {
      "text/plain": [
       "(32404859, 33)"
      ]
     },
     "execution_count": 23,
     "metadata": {},
     "output_type": "execute_result"
    }
   ],
   "source": [
    "# Compare shapes of riginal and new table\n",
    "df_ords_prods_all.shape"
   ]
  },
  {
   "cell_type": "code",
   "execution_count": 24,
   "id": "16a45efc",
   "metadata": {},
   "outputs": [
    {
     "data": {
      "text/plain": [
       "(24414877, 33)"
      ]
     },
     "execution_count": 24,
     "metadata": {},
     "output_type": "execute_result"
    }
   ],
   "source": [
    "mid_high_spender.shape"
   ]
  },
  {
   "cell_type": "code",
   "execution_count": 25,
   "id": "979769f4",
   "metadata": {},
   "outputs": [
    {
     "data": {
      "text/plain": [
       "low_spender\n",
       "No     24414877\n",
       "Yes     7989982\n",
       "Name: count, dtype: int64"
      ]
     },
     "execution_count": 25,
     "metadata": {},
     "output_type": "execute_result"
    }
   ],
   "source": [
    "# Check that new table has no missing values\n",
    "df_ords_prods_all['low_spender'].value_counts(dropna = False)"
   ]
  },
  {
   "cell_type": "code",
   "execution_count": 26,
   "id": "8698dc03",
   "metadata": {},
   "outputs": [],
   "source": [
    "# Save mid to high_activity pickle file\n",
    "mid_high_spender.to_pickle(os.path.join(path, '02 Data', 'Prepared Data', 'mid_high_spender.pkl'))"
   ]
  },
  {
   "cell_type": "markdown",
   "id": "f82af57f",
   "metadata": {},
   "source": [
    "## 5. Analyze customer ordering behavior."
   ]
  },
  {
   "cell_type": "markdown",
   "id": "13f989b3",
   "metadata": {},
   "source": [
    "### (1) Create a customer shopping behavior flag based on order timing."
   ]
  },
  {
   "cell_type": "code",
   "execution_count": 27,
   "id": "a4959351",
   "metadata": {},
   "outputs": [],
   "source": [
    "# Set the default flag to regular\n",
    "df_ords_prods_all['shopping_behavior'] = 'Regular'"
   ]
  },
  {
   "cell_type": "code",
   "execution_count": 28,
   "id": "1a135e3f",
   "metadata": {},
   "outputs": [],
   "source": [
    "# Set the flag to 'Early Bird' for orders between 5am and 8am\n",
    "df_ords_prods_all.loc[df_ords_prods_all['order_hour_of_day'].between(5, 8), 'shopping_behavior'] = \"Early Bird\""
   ]
  },
  {
   "cell_type": "code",
   "execution_count": 29,
   "id": "c265cac1",
   "metadata": {},
   "outputs": [],
   "source": [
    "# Set the flag to 'Night Owl' for orders after 8pm and before 5am\n",
    "df_ords_prods_all.loc[(df_ords_prods_all['order_hour_of_day'] >= 21) | (df_ords_prods_all['order_hour_of_day'] < 5), 'shopping_behavior'] = 'Night Owl'"
   ]
  },
  {
   "cell_type": "code",
   "execution_count": 30,
   "id": "6f0e5a9b",
   "metadata": {},
   "outputs": [
    {
     "data": {
      "text/plain": [
       "shopping_behavior\n",
       "Regular       27076688\n",
       "Early Bird     2987626\n",
       "Night Owl      2340545\n",
       "Name: count, dtype: int64"
      ]
     },
     "execution_count": 30,
     "metadata": {},
     "output_type": "execute_result"
    }
   ],
   "source": [
    "# Check for assignment completion\n",
    "df_ords_prods_all['shopping_behavior'].value_counts(dropna = False)"
   ]
  },
  {
   "cell_type": "code",
   "execution_count": 31,
   "id": "502d45f6",
   "metadata": {},
   "outputs": [
    {
     "data": {
      "image/png": "[encoded data removed]",
      "text/plain": [
       "<Figure size 640x480 with 1 Axes>"
      ]
     },
     "metadata": {},
     "output_type": "display_data"
    }
   ],
   "source": [
    "# Create bar graph for shopping behavior'#b03671', '#d576a4','#e8b5ce'\n",
    "shopping_behavior_bar = df_ords_prods_all['shopping_behavior'].value_counts().plot.bar(color =['#b03671', '#d576a4','#e8b5ce'])"
   ]
  },
  {
   "cell_type": "code",
   "execution_count": 32,
   "id": "d7831f06",
   "metadata": {},
   "outputs": [],
   "source": [
    "# Create pie chart for shopping behavior\n",
    "# Create table of shopping behavior counts\n",
    "behavior_counts = df_ords_prods_all['shopping_behavior'].value_counts()"
   ]
  },
  {
   "cell_type": "code",
   "execution_count": 33,
   "id": "4bd7dcfb",
   "metadata": {},
   "outputs": [
    {
     "data": {
      "image/png": "[encoded data removed]",
      "text/plain": [
       "<Figure size 640x480 with 1 Axes>"
      ]
     },
     "metadata": {},
     "output_type": "display_data"
    }
   ],
   "source": [
    "# Create pie chart with labels and color\n",
    "behavior_pie = plt.pie(behavior_counts,labels = behavior_counts.index, autopct='%1.1f%%', colors=['#b03671', '#d576a4','#e8b5ce'])\n",
    "# Add title\n",
    "plt.title('Shopping Behavior')\n",
    "# Save Pie Chart\n",
    "plt.savefig(os.path.join(path, '04 Analysis', 'Visualizations', 'behavior_pie.png'))"
   ]
  },
  {
   "cell_type": "markdown",
   "id": "3a63a237",
   "metadata": {},
   "source": [
    "### (2) Find statistics for shopping behavior based on order number."
   ]
  },
  {
   "cell_type": "code",
   "execution_count": 34,
   "id": "3ac08a1c",
   "metadata": {},
   "outputs": [],
   "source": [
    "# Find min, max, and mean order numbers for each behavior\n",
    "behavior_order_stats = df_ords_prods_all.groupby('shopping_behavior')['order_number'].agg(['min', 'max', 'mean'])"
   ]
  },
  {
   "cell_type": "code",
   "execution_count": 35,
   "id": "4c24bd57",
   "metadata": {},
   "outputs": [
    {
     "data": {
      "text/html": [
       "<div>\n",
       "<style scoped>\n",
       "    .dataframe tbody tr th:only-of-type {\n",
       "        vertical-align: middle;\n",
       "    }\n",
       "\n",
       "    .dataframe tbody tr th {\n",
       "        vertical-align: top;\n",
       "    }\n",
       "\n",
       "    .dataframe thead th {\n",
       "        text-align: right;\n",
       "    }\n",
       "</style>\n",
       "<table border=\"1\" class=\"dataframe\">\n",
       "  <thead>\n",
       "    <tr style=\"text-align: right;\">\n",
       "      <th></th>\n",
       "      <th>min</th>\n",
       "      <th>max</th>\n",
       "      <th>mean</th>\n",
       "    </tr>\n",
       "    <tr>\n",
       "      <th>shopping_behavior</th>\n",
       "      <th></th>\n",
       "      <th></th>\n",
       "      <th></th>\n",
       "    </tr>\n",
       "  </thead>\n",
       "  <tbody>\n",
       "    <tr>\n",
       "      <th>Early Bird</th>\n",
       "      <td>1</td>\n",
       "      <td>99</td>\n",
       "      <td>19.338870</td>\n",
       "    </tr>\n",
       "    <tr>\n",
       "      <th>Night Owl</th>\n",
       "      <td>1</td>\n",
       "      <td>99</td>\n",
       "      <td>16.767266</td>\n",
       "    </tr>\n",
       "    <tr>\n",
       "      <th>Regular</th>\n",
       "      <td>1</td>\n",
       "      <td>99</td>\n",
       "      <td>16.932356</td>\n",
       "    </tr>\n",
       "  </tbody>\n",
       "</table>\n",
       "</div>"
      ],
      "text/plain": [
       "                   min  max       mean\n",
       "shopping_behavior                     \n",
       "Early Bird           1   99  19.338870\n",
       "Night Owl            1   99  16.767266\n",
       "Regular              1   99  16.932356"
      ]
     },
     "execution_count": 35,
     "metadata": {},
     "output_type": "execute_result"
    }
   ],
   "source": [
    "# View stats\n",
    "behavior_order_stats"
   ]
  },
  {
   "cell_type": "markdown",
   "id": "c431989a",
   "metadata": {},
   "source": [
    "### (3) Find statistics for shopping behavior based on expenditure."
   ]
  },
  {
   "cell_type": "code",
   "execution_count": 36,
   "id": "37e5615f",
   "metadata": {},
   "outputs": [],
   "source": [
    "# Find the expenditure for each order for each customer\n",
    "behavior_order_total = df_ords_prods_all.groupby(['shopping_behavior', 'user_id', 'order_number'])['prices'].sum().reset_index()"
   ]
  },
  {
   "cell_type": "code",
   "execution_count": 37,
   "id": "840269eb",
   "metadata": {},
   "outputs": [
    {
     "data": {
      "text/html": [
       "<div>\n",
       "<style scoped>\n",
       "    .dataframe tbody tr th:only-of-type {\n",
       "        vertical-align: middle;\n",
       "    }\n",
       "\n",
       "    .dataframe tbody tr th {\n",
       "        vertical-align: top;\n",
       "    }\n",
       "\n",
       "    .dataframe thead th {\n",
       "        text-align: right;\n",
       "    }\n",
       "</style>\n",
       "<table border=\"1\" class=\"dataframe\">\n",
       "  <thead>\n",
       "    <tr style=\"text-align: right;\">\n",
       "      <th></th>\n",
       "      <th>shopping_behavior</th>\n",
       "      <th>user_id</th>\n",
       "      <th>order_number</th>\n",
       "      <th>prices</th>\n",
       "    </tr>\n",
       "  </thead>\n",
       "  <tbody>\n",
       "    <tr>\n",
       "      <th>0</th>\n",
       "      <td>Early Bird</td>\n",
       "      <td>1</td>\n",
       "      <td>1</td>\n",
       "      <td>31.6</td>\n",
       "    </tr>\n",
       "    <tr>\n",
       "      <th>1</th>\n",
       "      <td>Early Bird</td>\n",
       "      <td>1</td>\n",
       "      <td>2</td>\n",
       "      <td>35.4</td>\n",
       "    </tr>\n",
       "    <tr>\n",
       "      <th>2</th>\n",
       "      <td>Early Bird</td>\n",
       "      <td>1</td>\n",
       "      <td>4</td>\n",
       "      <td>26.0</td>\n",
       "    </tr>\n",
       "    <tr>\n",
       "      <th>3</th>\n",
       "      <td>Early Bird</td>\n",
       "      <td>1</td>\n",
       "      <td>6</td>\n",
       "      <td>25.0</td>\n",
       "    </tr>\n",
       "    <tr>\n",
       "      <th>4</th>\n",
       "      <td>Early Bird</td>\n",
       "      <td>1</td>\n",
       "      <td>10</td>\n",
       "      <td>63.1</td>\n",
       "    </tr>\n",
       "    <tr>\n",
       "      <th>...</th>\n",
       "      <td>...</td>\n",
       "      <td>...</td>\n",
       "      <td>...</td>\n",
       "      <td>...</td>\n",
       "    </tr>\n",
       "    <tr>\n",
       "      <th>3214680</th>\n",
       "      <td>Regular</td>\n",
       "      <td>206209</td>\n",
       "      <td>9</td>\n",
       "      <td>26.2</td>\n",
       "    </tr>\n",
       "    <tr>\n",
       "      <th>3214681</th>\n",
       "      <td>Regular</td>\n",
       "      <td>206209</td>\n",
       "      <td>10</td>\n",
       "      <td>64.7</td>\n",
       "    </tr>\n",
       "    <tr>\n",
       "      <th>3214682</th>\n",
       "      <td>Regular</td>\n",
       "      <td>206209</td>\n",
       "      <td>11</td>\n",
       "      <td>56.1</td>\n",
       "    </tr>\n",
       "    <tr>\n",
       "      <th>3214683</th>\n",
       "      <td>Regular</td>\n",
       "      <td>206209</td>\n",
       "      <td>12</td>\n",
       "      <td>131.5</td>\n",
       "    </tr>\n",
       "    <tr>\n",
       "      <th>3214684</th>\n",
       "      <td>Regular</td>\n",
       "      <td>206209</td>\n",
       "      <td>13</td>\n",
       "      <td>61.2</td>\n",
       "    </tr>\n",
       "  </tbody>\n",
       "</table>\n",
       "<p>3214685 rows × 4 columns</p>\n",
       "</div>"
      ],
      "text/plain": [
       "        shopping_behavior  user_id  order_number  prices\n",
       "0              Early Bird        1             1    31.6\n",
       "1              Early Bird        1             2    35.4\n",
       "2              Early Bird        1             4    26.0\n",
       "3              Early Bird        1             6    25.0\n",
       "4              Early Bird        1            10    63.1\n",
       "...                   ...      ...           ...     ...\n",
       "3214680           Regular   206209             9    26.2\n",
       "3214681           Regular   206209            10    64.7\n",
       "3214682           Regular   206209            11    56.1\n",
       "3214683           Regular   206209            12   131.5\n",
       "3214684           Regular   206209            13    61.2\n",
       "\n",
       "[3214685 rows x 4 columns]"
      ]
     },
     "execution_count": 37,
     "metadata": {},
     "output_type": "execute_result"
    }
   ],
   "source": [
    "# View order expenditure stats\n",
    "behavior_order_total"
   ]
  },
  {
   "cell_type": "code",
   "execution_count": 38,
   "id": "e6c39d6a",
   "metadata": {},
   "outputs": [],
   "source": [
    "# Find the expenditure statistics for each customer\n",
    "behavior_shopper_total = behavior_order_total.groupby(['shopping_behavior', 'user_id'])['prices'].agg(['min', 'max', 'mean']).reset_index()"
   ]
  },
  {
   "cell_type": "code",
   "execution_count": 39,
   "id": "edaed534",
   "metadata": {},
   "outputs": [
    {
     "data": {
      "text/html": [
       "<div>\n",
       "<style scoped>\n",
       "    .dataframe tbody tr th:only-of-type {\n",
       "        vertical-align: middle;\n",
       "    }\n",
       "\n",
       "    .dataframe tbody tr th {\n",
       "        vertical-align: top;\n",
       "    }\n",
       "\n",
       "    .dataframe thead th {\n",
       "        text-align: right;\n",
       "    }\n",
       "</style>\n",
       "<table border=\"1\" class=\"dataframe\">\n",
       "  <thead>\n",
       "    <tr style=\"text-align: right;\">\n",
       "      <th></th>\n",
       "      <th>shopping_behavior</th>\n",
       "      <th>user_id</th>\n",
       "      <th>min</th>\n",
       "      <th>max</th>\n",
       "      <th>mean</th>\n",
       "    </tr>\n",
       "  </thead>\n",
       "  <tbody>\n",
       "    <tr>\n",
       "      <th>0</th>\n",
       "      <td>Early Bird</td>\n",
       "      <td>1</td>\n",
       "      <td>25.0</td>\n",
       "      <td>63.1</td>\n",
       "      <td>36.220000</td>\n",
       "    </tr>\n",
       "    <tr>\n",
       "      <th>1</th>\n",
       "      <td>Early Bird</td>\n",
       "      <td>7</td>\n",
       "      <td>74.7</td>\n",
       "      <td>74.7</td>\n",
       "      <td>74.700000</td>\n",
       "    </tr>\n",
       "    <tr>\n",
       "      <th>2</th>\n",
       "      <td>Early Bird</td>\n",
       "      <td>8</td>\n",
       "      <td>135.0</td>\n",
       "      <td>135.0</td>\n",
       "      <td>135.000000</td>\n",
       "    </tr>\n",
       "    <tr>\n",
       "      <th>3</th>\n",
       "      <td>Early Bird</td>\n",
       "      <td>12</td>\n",
       "      <td>97.0</td>\n",
       "      <td>97.0</td>\n",
       "      <td>97.000000</td>\n",
       "    </tr>\n",
       "    <tr>\n",
       "      <th>4</th>\n",
       "      <td>Early Bird</td>\n",
       "      <td>13</td>\n",
       "      <td>83.8</td>\n",
       "      <td>83.8</td>\n",
       "      <td>83.800000</td>\n",
       "    </tr>\n",
       "    <tr>\n",
       "      <th>...</th>\n",
       "      <td>...</td>\n",
       "      <td>...</td>\n",
       "      <td>...</td>\n",
       "      <td>...</td>\n",
       "      <td>...</td>\n",
       "    </tr>\n",
       "    <tr>\n",
       "      <th>380622</th>\n",
       "      <td>Regular</td>\n",
       "      <td>206205</td>\n",
       "      <td>51.6</td>\n",
       "      <td>149.1</td>\n",
       "      <td>95.033333</td>\n",
       "    </tr>\n",
       "    <tr>\n",
       "      <th>380623</th>\n",
       "      <td>Regular</td>\n",
       "      <td>206206</td>\n",
       "      <td>9.6</td>\n",
       "      <td>157.3</td>\n",
       "      <td>32.526866</td>\n",
       "    </tr>\n",
       "    <tr>\n",
       "      <th>380624</th>\n",
       "      <td>Regular</td>\n",
       "      <td>206207</td>\n",
       "      <td>47.5</td>\n",
       "      <td>200.8</td>\n",
       "      <td>112.708333</td>\n",
       "    </tr>\n",
       "    <tr>\n",
       "      <th>380625</th>\n",
       "      <td>Regular</td>\n",
       "      <td>206208</td>\n",
       "      <td>46.0</td>\n",
       "      <td>238.5</td>\n",
       "      <td>116.490909</td>\n",
       "    </tr>\n",
       "    <tr>\n",
       "      <th>380626</th>\n",
       "      <td>Regular</td>\n",
       "      <td>206209</td>\n",
       "      <td>11.1</td>\n",
       "      <td>131.5</td>\n",
       "      <td>70.046154</td>\n",
       "    </tr>\n",
       "  </tbody>\n",
       "</table>\n",
       "<p>380627 rows × 5 columns</p>\n",
       "</div>"
      ],
      "text/plain": [
       "       shopping_behavior  user_id    min    max        mean\n",
       "0             Early Bird        1   25.0   63.1   36.220000\n",
       "1             Early Bird        7   74.7   74.7   74.700000\n",
       "2             Early Bird        8  135.0  135.0  135.000000\n",
       "3             Early Bird       12   97.0   97.0   97.000000\n",
       "4             Early Bird       13   83.8   83.8   83.800000\n",
       "...                  ...      ...    ...    ...         ...\n",
       "380622           Regular   206205   51.6  149.1   95.033333\n",
       "380623           Regular   206206    9.6  157.3   32.526866\n",
       "380624           Regular   206207   47.5  200.8  112.708333\n",
       "380625           Regular   206208   46.0  238.5  116.490909\n",
       "380626           Regular   206209   11.1  131.5   70.046154\n",
       "\n",
       "[380627 rows x 5 columns]"
      ]
     },
     "execution_count": 39,
     "metadata": {},
     "output_type": "execute_result"
    }
   ],
   "source": [
    "# View the expenditure statistics for each customer\n",
    "behavior_shopper_total"
   ]
  },
  {
   "cell_type": "code",
   "execution_count": 40,
   "id": "aa3e95ae",
   "metadata": {},
   "outputs": [],
   "source": [
    "# Find the expenditure statistics for each behavior flag\n",
    "behavior_price_stats = behavior_shopper_total.groupby('shopping_behavior').agg({'min':'min', 'max':'max', 'mean':'mean'}).reset_index()"
   ]
  },
  {
   "cell_type": "code",
   "execution_count": 41,
   "id": "576851ea",
   "metadata": {},
   "outputs": [
    {
     "data": {
      "text/html": [
       "<div>\n",
       "<style scoped>\n",
       "    .dataframe tbody tr th:only-of-type {\n",
       "        vertical-align: middle;\n",
       "    }\n",
       "\n",
       "    .dataframe tbody tr th {\n",
       "        vertical-align: top;\n",
       "    }\n",
       "\n",
       "    .dataframe thead th {\n",
       "        text-align: right;\n",
       "    }\n",
       "</style>\n",
       "<table border=\"1\" class=\"dataframe\">\n",
       "  <thead>\n",
       "    <tr style=\"text-align: right;\">\n",
       "      <th></th>\n",
       "      <th>shopping_behavior</th>\n",
       "      <th>min</th>\n",
       "      <th>max</th>\n",
       "      <th>mean</th>\n",
       "    </tr>\n",
       "  </thead>\n",
       "  <tbody>\n",
       "    <tr>\n",
       "      <th>0</th>\n",
       "      <td>Early Bird</td>\n",
       "      <td>1.0</td>\n",
       "      <td>721.0</td>\n",
       "      <td>78.408488</td>\n",
       "    </tr>\n",
       "    <tr>\n",
       "      <th>1</th>\n",
       "      <td>Night Owl</td>\n",
       "      <td>1.0</td>\n",
       "      <td>875.0</td>\n",
       "      <td>82.128517</td>\n",
       "    </tr>\n",
       "    <tr>\n",
       "      <th>2</th>\n",
       "      <td>Regular</td>\n",
       "      <td>1.0</td>\n",
       "      <td>1092.2</td>\n",
       "      <td>77.291563</td>\n",
       "    </tr>\n",
       "  </tbody>\n",
       "</table>\n",
       "</div>"
      ],
      "text/plain": [
       "  shopping_behavior  min     max       mean\n",
       "0        Early Bird  1.0   721.0  78.408488\n",
       "1         Night Owl  1.0   875.0  82.128517\n",
       "2           Regular  1.0  1092.2  77.291563"
      ]
     },
     "execution_count": 41,
     "metadata": {},
     "output_type": "execute_result"
    }
   ],
   "source": [
    "# View expenditure statistics for each behavior flag\n",
    "behavior_price_stats"
   ]
  },
  {
   "cell_type": "code",
   "execution_count": 42,
   "id": "7f84e0b3",
   "metadata": {},
   "outputs": [
    {
     "data": {
      "image/png": "[encoded data removed]",
      "text/plain": [
       "<Figure size 640x480 with 1 Axes>"
      ]
     },
     "metadata": {},
     "output_type": "display_data"
    }
   ],
   "source": [
    "# Create bar chart for average order expense per shopping behavior\n",
    "# Create table with average order expense\n",
    "behavior_price_bar = sns.barplot(x= 'shopping_behavior', y = 'mean', data = behavior_price_stats, palette = ['#b03671', '#d576a4','#e8b5ce'])\n",
    "# Adjust plot size\n",
    "plt.subplots_adjust(bottom = 0.2)\n",
    "# Add axis and title labels\n",
    "plt.xlabel('shopping Behavior')\n",
    "plt.ylabel('Average Expenditure')\n",
    "plt.title('Average Expenditure per Shopping Behavior')\n",
    "# Add x tick labels, position adjusted\n",
    "plt.xticks(rotation = 45, ha = 'right')\n",
    "# Save Bar Chart\n",
    "plt.savefig(os.path.join(path, '04 Analysis', 'Visualizations', 'behavior_price_bar.png'))"
   ]
  },
  {
   "cell_type": "markdown",
   "id": "698cbeff",
   "metadata": {},
   "source": [
    "### (4) Analyze customer shopping behavior by department."
   ]
  },
  {
   "cell_type": "code",
   "execution_count": 43,
   "id": "ed0f93d0",
   "metadata": {},
   "outputs": [],
   "source": [
    "# Create a crosstable with shopping behavior and department id\n",
    "behavior_dep_cross = pd.crosstab(df_ords_prods_all['department_id'],df_ords_prods_all['shopping_behavior'], dropna = False)"
   ]
  },
  {
   "cell_type": "code",
   "execution_count": 44,
   "id": "0954a9d9",
   "metadata": {},
   "outputs": [
    {
     "data": {
      "text/html": [
       "<div>\n",
       "<style scoped>\n",
       "    .dataframe tbody tr th:only-of-type {\n",
       "        vertical-align: middle;\n",
       "    }\n",
       "\n",
       "    .dataframe tbody tr th {\n",
       "        vertical-align: top;\n",
       "    }\n",
       "\n",
       "    .dataframe thead th {\n",
       "        text-align: right;\n",
       "    }\n",
       "</style>\n",
       "<table border=\"1\" class=\"dataframe\">\n",
       "  <thead>\n",
       "    <tr style=\"text-align: right;\">\n",
       "      <th>shopping_behavior</th>\n",
       "      <th>Early Bird</th>\n",
       "      <th>Night Owl</th>\n",
       "      <th>Regular</th>\n",
       "    </tr>\n",
       "    <tr>\n",
       "      <th>department_id</th>\n",
       "      <th></th>\n",
       "      <th></th>\n",
       "      <th></th>\n",
       "    </tr>\n",
       "  </thead>\n",
       "  <tbody>\n",
       "    <tr>\n",
       "      <th>1</th>\n",
       "      <td>187469</td>\n",
       "      <td>163765</td>\n",
       "      <td>1883509</td>\n",
       "    </tr>\n",
       "    <tr>\n",
       "      <th>2</th>\n",
       "      <td>3154</td>\n",
       "      <td>2582</td>\n",
       "      <td>30555</td>\n",
       "    </tr>\n",
       "    <tr>\n",
       "      <th>3</th>\n",
       "      <td>111607</td>\n",
       "      <td>78883</td>\n",
       "      <td>981938</td>\n",
       "    </tr>\n",
       "    <tr>\n",
       "      <th>4</th>\n",
       "      <td>893539</td>\n",
       "      <td>729649</td>\n",
       "      <td>7856103</td>\n",
       "    </tr>\n",
       "    <tr>\n",
       "      <th>5</th>\n",
       "      <td>8351</td>\n",
       "      <td>5755</td>\n",
       "      <td>139590</td>\n",
       "    </tr>\n",
       "    <tr>\n",
       "      <th>6</th>\n",
       "      <td>21936</td>\n",
       "      <td>20081</td>\n",
       "      <td>227236</td>\n",
       "    </tr>\n",
       "    <tr>\n",
       "      <th>7</th>\n",
       "      <td>239403</td>\n",
       "      <td>172382</td>\n",
       "      <td>2276338</td>\n",
       "    </tr>\n",
       "    <tr>\n",
       "      <th>8</th>\n",
       "      <td>8292</td>\n",
       "      <td>6319</td>\n",
       "      <td>83105</td>\n",
       "    </tr>\n",
       "    <tr>\n",
       "      <th>9</th>\n",
       "      <td>75871</td>\n",
       "      <td>63823</td>\n",
       "      <td>726933</td>\n",
       "    </tr>\n",
       "    <tr>\n",
       "      <th>10</th>\n",
       "      <td>3132</td>\n",
       "      <td>2713</td>\n",
       "      <td>28728</td>\n",
       "    </tr>\n",
       "    <tr>\n",
       "      <th>11</th>\n",
       "      <td>40902</td>\n",
       "      <td>32537</td>\n",
       "      <td>374133</td>\n",
       "    </tr>\n",
       "    <tr>\n",
       "      <th>12</th>\n",
       "      <td>64414</td>\n",
       "      <td>50231</td>\n",
       "      <td>594282</td>\n",
       "    </tr>\n",
       "    <tr>\n",
       "      <th>13</th>\n",
       "      <td>162905</td>\n",
       "      <td>140701</td>\n",
       "      <td>1571763</td>\n",
       "    </tr>\n",
       "    <tr>\n",
       "      <th>14</th>\n",
       "      <td>71223</td>\n",
       "      <td>49871</td>\n",
       "      <td>581939</td>\n",
       "    </tr>\n",
       "    <tr>\n",
       "      <th>15</th>\n",
       "      <td>91664</td>\n",
       "      <td>78533</td>\n",
       "      <td>897861</td>\n",
       "    </tr>\n",
       "    <tr>\n",
       "      <th>16</th>\n",
       "      <td>531558</td>\n",
       "      <td>385481</td>\n",
       "      <td>4481708</td>\n",
       "    </tr>\n",
       "    <tr>\n",
       "      <th>17</th>\n",
       "      <td>69647</td>\n",
       "      <td>51935</td>\n",
       "      <td>617084</td>\n",
       "    </tr>\n",
       "    <tr>\n",
       "      <th>18</th>\n",
       "      <td>51579</td>\n",
       "      <td>36019</td>\n",
       "      <td>336204</td>\n",
       "    </tr>\n",
       "    <tr>\n",
       "      <th>19</th>\n",
       "      <td>252829</td>\n",
       "      <td>190451</td>\n",
       "      <td>2444270</td>\n",
       "    </tr>\n",
       "    <tr>\n",
       "      <th>20</th>\n",
       "      <td>92006</td>\n",
       "      <td>73443</td>\n",
       "      <td>885800</td>\n",
       "    </tr>\n",
       "    <tr>\n",
       "      <th>21</th>\n",
       "      <td>6145</td>\n",
       "      <td>5391</td>\n",
       "      <td>57609</td>\n",
       "    </tr>\n",
       "  </tbody>\n",
       "</table>\n",
       "</div>"
      ],
      "text/plain": [
       "shopping_behavior  Early Bird  Night Owl  Regular\n",
       "department_id                                    \n",
       "1                      187469     163765  1883509\n",
       "2                        3154       2582    30555\n",
       "3                      111607      78883   981938\n",
       "4                      893539     729649  7856103\n",
       "5                        8351       5755   139590\n",
       "6                       21936      20081   227236\n",
       "7                      239403     172382  2276338\n",
       "8                        8292       6319    83105\n",
       "9                       75871      63823   726933\n",
       "10                       3132       2713    28728\n",
       "11                      40902      32537   374133\n",
       "12                      64414      50231   594282\n",
       "13                     162905     140701  1571763\n",
       "14                      71223      49871   581939\n",
       "15                      91664      78533   897861\n",
       "16                     531558     385481  4481708\n",
       "17                      69647      51935   617084\n",
       "18                      51579      36019   336204\n",
       "19                     252829     190451  2444270\n",
       "20                      92006      73443   885800\n",
       "21                       6145       5391    57609"
      ]
     },
     "execution_count": 44,
     "metadata": {},
     "output_type": "execute_result"
    }
   ],
   "source": [
    "# View crosstable\n",
    "behavior_dep_cross"
   ]
  },
  {
   "cell_type": "code",
   "execution_count": 45,
   "id": "86cf25ee",
   "metadata": {},
   "outputs": [],
   "source": [
    "# Create long table to use for clustered bar graph\n",
    "dep_behavior_long = behavior_dep_cross.reset_index().melt(id_vars='department_id', var_name='shopping_behavior', value_name='count')"
   ]
  },
  {
   "cell_type": "code",
   "execution_count": 46,
   "id": "e9b6bdc7",
   "metadata": {},
   "outputs": [
    {
     "data": {
      "image/png": "[encoded data removed]",
      "text/plain": [
       "<Figure size 640x480 with 1 Axes>"
      ]
     },
     "metadata": {},
     "output_type": "display_data"
    }
   ],
   "source": [
    "# Create clustered bar graph for shopping behavior and department\n",
    "dep_beh_bar = sns.barplot(x = 'department_id', y = 'count', hue = 'shopping_behavior', data = dep_behavior_long, palette = ['#b03671', '#d576a4','#e8b5ce'])"
   ]
  },
  {
   "cell_type": "code",
   "execution_count": 47,
   "id": "8e5a90fd",
   "metadata": {},
   "outputs": [
    {
     "data": {
      "image/png": "[encoded data removed]",
      "text/plain": [
       "<Figure size 640x480 with 1 Axes>"
      ]
     },
     "metadata": {},
     "output_type": "display_data"
    }
   ],
   "source": [
    "# Create stacked line chart for number of orders per department per shopping behavior with color\n",
    "beh_dep_line = behavior_dep_cross.plot(kind = 'line', stacked = True, color = ['#b03671', '#d576a4','#e8b5ce'])\n",
    "# Adjust plot size\n",
    "plt.subplots_adjust(bottom = 0.2)\n",
    "# Add axis and title labels\n",
    "plt.title('Order Timing Relationship to Department')\n",
    "plt.xlabel('Department ID')\n",
    "plt.ylabel('Number of Orders')\n",
    "# Add x tick mark labels, position adjusted\n",
    "plt.xticks(rotation = 45, ha = 'right')\n",
    "# Add legend title\n",
    "plt.legend(title = 'Shopping Behavior')\n",
    "# Save Stacked Line Chart\n",
    "plt.savefig(os.path.join(path, '04 Analysis', 'Visualizations', 'behavior_dep_bar.png'))"
   ]
  },
  {
   "cell_type": "markdown",
   "id": "ba0db8a9",
   "metadata": {},
   "source": [
    "### (5) Analyze customer shopping behavior by region."
   ]
  },
  {
   "cell_type": "code",
   "execution_count": 48,
   "id": "8ac2583c",
   "metadata": {},
   "outputs": [],
   "source": [
    "# Create crosstab with shopping behavior, region, and department\n",
    "behavior_reg_dep_cross = pd.crosstab(index = [df_ords_prods_all['Region'], df_ords_prods_all['shopping_behavior']],\n",
    "                                    columns = df_ords_prods_all['department_id'], dropna = False)"
   ]
  },
  {
   "cell_type": "code",
   "execution_count": 49,
   "id": "94c4502d",
   "metadata": {},
   "outputs": [
    {
     "data": {
      "text/html": [
       "<div>\n",
       "<style scoped>\n",
       "    .dataframe tbody tr th:only-of-type {\n",
       "        vertical-align: middle;\n",
       "    }\n",
       "\n",
       "    .dataframe tbody tr th {\n",
       "        vertical-align: top;\n",
       "    }\n",
       "\n",
       "    .dataframe thead th {\n",
       "        text-align: right;\n",
       "    }\n",
       "</style>\n",
       "<table border=\"1\" class=\"dataframe\">\n",
       "  <thead>\n",
       "    <tr style=\"text-align: right;\">\n",
       "      <th></th>\n",
       "      <th>department_id</th>\n",
       "      <th>1</th>\n",
       "      <th>2</th>\n",
       "      <th>3</th>\n",
       "      <th>4</th>\n",
       "      <th>5</th>\n",
       "      <th>6</th>\n",
       "      <th>7</th>\n",
       "      <th>8</th>\n",
       "      <th>9</th>\n",
       "      <th>10</th>\n",
       "      <th>...</th>\n",
       "      <th>12</th>\n",
       "      <th>13</th>\n",
       "      <th>14</th>\n",
       "      <th>15</th>\n",
       "      <th>16</th>\n",
       "      <th>17</th>\n",
       "      <th>18</th>\n",
       "      <th>19</th>\n",
       "      <th>20</th>\n",
       "      <th>21</th>\n",
       "    </tr>\n",
       "    <tr>\n",
       "      <th>Region</th>\n",
       "      <th>shopping_behavior</th>\n",
       "      <th></th>\n",
       "      <th></th>\n",
       "      <th></th>\n",
       "      <th></th>\n",
       "      <th></th>\n",
       "      <th></th>\n",
       "      <th></th>\n",
       "      <th></th>\n",
       "      <th></th>\n",
       "      <th></th>\n",
       "      <th></th>\n",
       "      <th></th>\n",
       "      <th></th>\n",
       "      <th></th>\n",
       "      <th></th>\n",
       "      <th></th>\n",
       "      <th></th>\n",
       "      <th></th>\n",
       "      <th></th>\n",
       "      <th></th>\n",
       "      <th></th>\n",
       "    </tr>\n",
       "  </thead>\n",
       "  <tbody>\n",
       "    <tr>\n",
       "      <th rowspan=\"3\" valign=\"top\">Midwest</th>\n",
       "      <th>Early Bird</th>\n",
       "      <td>43526</td>\n",
       "      <td>757</td>\n",
       "      <td>25942</td>\n",
       "      <td>206995</td>\n",
       "      <td>1951</td>\n",
       "      <td>5119</td>\n",
       "      <td>55226</td>\n",
       "      <td>1787</td>\n",
       "      <td>17558</td>\n",
       "      <td>747</td>\n",
       "      <td>...</td>\n",
       "      <td>14757</td>\n",
       "      <td>38216</td>\n",
       "      <td>16407</td>\n",
       "      <td>21294</td>\n",
       "      <td>123708</td>\n",
       "      <td>16297</td>\n",
       "      <td>11729</td>\n",
       "      <td>59088</td>\n",
       "      <td>21329</td>\n",
       "      <td>1496</td>\n",
       "    </tr>\n",
       "    <tr>\n",
       "      <th>Night Owl</th>\n",
       "      <td>38992</td>\n",
       "      <td>613</td>\n",
       "      <td>18825</td>\n",
       "      <td>172218</td>\n",
       "      <td>1247</td>\n",
       "      <td>4804</td>\n",
       "      <td>40364</td>\n",
       "      <td>1700</td>\n",
       "      <td>15085</td>\n",
       "      <td>644</td>\n",
       "      <td>...</td>\n",
       "      <td>11841</td>\n",
       "      <td>33235</td>\n",
       "      <td>11700</td>\n",
       "      <td>18723</td>\n",
       "      <td>91031</td>\n",
       "      <td>12507</td>\n",
       "      <td>8736</td>\n",
       "      <td>44147</td>\n",
       "      <td>17364</td>\n",
       "      <td>1295</td>\n",
       "    </tr>\n",
       "    <tr>\n",
       "      <th>Regular</th>\n",
       "      <td>441578</td>\n",
       "      <td>7050</td>\n",
       "      <td>229102</td>\n",
       "      <td>1848724</td>\n",
       "      <td>32988</td>\n",
       "      <td>53813</td>\n",
       "      <td>529984</td>\n",
       "      <td>18868</td>\n",
       "      <td>171126</td>\n",
       "      <td>6802</td>\n",
       "      <td>...</td>\n",
       "      <td>139531</td>\n",
       "      <td>370650</td>\n",
       "      <td>135444</td>\n",
       "      <td>210685</td>\n",
       "      <td>1049484</td>\n",
       "      <td>147020</td>\n",
       "      <td>78518</td>\n",
       "      <td>570480</td>\n",
       "      <td>206985</td>\n",
       "      <td>13744</td>\n",
       "    </tr>\n",
       "    <tr>\n",
       "      <th rowspan=\"3\" valign=\"top\">Northeast</th>\n",
       "      <th>Early Bird</th>\n",
       "      <td>32070</td>\n",
       "      <td>567</td>\n",
       "      <td>19912</td>\n",
       "      <td>156973</td>\n",
       "      <td>1413</td>\n",
       "      <td>3811</td>\n",
       "      <td>43529</td>\n",
       "      <td>1765</td>\n",
       "      <td>13306</td>\n",
       "      <td>571</td>\n",
       "      <td>...</td>\n",
       "      <td>11302</td>\n",
       "      <td>28181</td>\n",
       "      <td>13180</td>\n",
       "      <td>16170</td>\n",
       "      <td>95697</td>\n",
       "      <td>12383</td>\n",
       "      <td>9489</td>\n",
       "      <td>45231</td>\n",
       "      <td>16371</td>\n",
       "      <td>1093</td>\n",
       "    </tr>\n",
       "    <tr>\n",
       "      <th>Night Owl</th>\n",
       "      <td>29336</td>\n",
       "      <td>452</td>\n",
       "      <td>14242</td>\n",
       "      <td>131486</td>\n",
       "      <td>1021</td>\n",
       "      <td>3394</td>\n",
       "      <td>32230</td>\n",
       "      <td>1124</td>\n",
       "      <td>11350</td>\n",
       "      <td>466</td>\n",
       "      <td>...</td>\n",
       "      <td>9064</td>\n",
       "      <td>24865</td>\n",
       "      <td>8765</td>\n",
       "      <td>13861</td>\n",
       "      <td>69200</td>\n",
       "      <td>9084</td>\n",
       "      <td>6359</td>\n",
       "      <td>34691</td>\n",
       "      <td>13323</td>\n",
       "      <td>989</td>\n",
       "    </tr>\n",
       "    <tr>\n",
       "      <th>Regular</th>\n",
       "      <td>329512</td>\n",
       "      <td>5566</td>\n",
       "      <td>174445</td>\n",
       "      <td>1377380</td>\n",
       "      <td>24108</td>\n",
       "      <td>39686</td>\n",
       "      <td>407659</td>\n",
       "      <td>15712</td>\n",
       "      <td>127160</td>\n",
       "      <td>4765</td>\n",
       "      <td>...</td>\n",
       "      <td>104254</td>\n",
       "      <td>276399</td>\n",
       "      <td>101629</td>\n",
       "      <td>156724</td>\n",
       "      <td>789129</td>\n",
       "      <td>110018</td>\n",
       "      <td>59291</td>\n",
       "      <td>434753</td>\n",
       "      <td>157123</td>\n",
       "      <td>10292</td>\n",
       "    </tr>\n",
       "    <tr>\n",
       "      <th rowspan=\"3\" valign=\"top\">South</th>\n",
       "      <th>Early Bird</th>\n",
       "      <td>64185</td>\n",
       "      <td>1043</td>\n",
       "      <td>37631</td>\n",
       "      <td>302465</td>\n",
       "      <td>2885</td>\n",
       "      <td>7374</td>\n",
       "      <td>80897</td>\n",
       "      <td>2575</td>\n",
       "      <td>25668</td>\n",
       "      <td>1050</td>\n",
       "      <td>...</td>\n",
       "      <td>21845</td>\n",
       "      <td>54928</td>\n",
       "      <td>23332</td>\n",
       "      <td>30803</td>\n",
       "      <td>177657</td>\n",
       "      <td>22988</td>\n",
       "      <td>17865</td>\n",
       "      <td>84209</td>\n",
       "      <td>31075</td>\n",
       "      <td>2093</td>\n",
       "    </tr>\n",
       "    <tr>\n",
       "      <th>Night Owl</th>\n",
       "      <td>54598</td>\n",
       "      <td>894</td>\n",
       "      <td>26014</td>\n",
       "      <td>243053</td>\n",
       "      <td>2020</td>\n",
       "      <td>6821</td>\n",
       "      <td>57485</td>\n",
       "      <td>1812</td>\n",
       "      <td>21056</td>\n",
       "      <td>879</td>\n",
       "      <td>...</td>\n",
       "      <td>16794</td>\n",
       "      <td>47086</td>\n",
       "      <td>16603</td>\n",
       "      <td>26011</td>\n",
       "      <td>127630</td>\n",
       "      <td>17031</td>\n",
       "      <td>12383</td>\n",
       "      <td>64034</td>\n",
       "      <td>24135</td>\n",
       "      <td>1786</td>\n",
       "    </tr>\n",
       "    <tr>\n",
       "      <th>Regular</th>\n",
       "      <td>629117</td>\n",
       "      <td>10275</td>\n",
       "      <td>325170</td>\n",
       "      <td>2615033</td>\n",
       "      <td>46719</td>\n",
       "      <td>74947</td>\n",
       "      <td>760558</td>\n",
       "      <td>26882</td>\n",
       "      <td>240720</td>\n",
       "      <td>9604</td>\n",
       "      <td>...</td>\n",
       "      <td>197113</td>\n",
       "      <td>520422</td>\n",
       "      <td>194316</td>\n",
       "      <td>299201</td>\n",
       "      <td>1491682</td>\n",
       "      <td>203051</td>\n",
       "      <td>113406</td>\n",
       "      <td>809103</td>\n",
       "      <td>294209</td>\n",
       "      <td>19314</td>\n",
       "    </tr>\n",
       "    <tr>\n",
       "      <th rowspan=\"3\" valign=\"top\">West</th>\n",
       "      <th>Early Bird</th>\n",
       "      <td>47688</td>\n",
       "      <td>787</td>\n",
       "      <td>28122</td>\n",
       "      <td>227106</td>\n",
       "      <td>2102</td>\n",
       "      <td>5632</td>\n",
       "      <td>59751</td>\n",
       "      <td>2165</td>\n",
       "      <td>19339</td>\n",
       "      <td>764</td>\n",
       "      <td>...</td>\n",
       "      <td>16510</td>\n",
       "      <td>41580</td>\n",
       "      <td>18304</td>\n",
       "      <td>23397</td>\n",
       "      <td>134496</td>\n",
       "      <td>17979</td>\n",
       "      <td>12496</td>\n",
       "      <td>64301</td>\n",
       "      <td>23231</td>\n",
       "      <td>1463</td>\n",
       "    </tr>\n",
       "    <tr>\n",
       "      <th>Night Owl</th>\n",
       "      <td>40839</td>\n",
       "      <td>623</td>\n",
       "      <td>19802</td>\n",
       "      <td>182892</td>\n",
       "      <td>1467</td>\n",
       "      <td>5062</td>\n",
       "      <td>42303</td>\n",
       "      <td>1683</td>\n",
       "      <td>16332</td>\n",
       "      <td>724</td>\n",
       "      <td>...</td>\n",
       "      <td>12532</td>\n",
       "      <td>35515</td>\n",
       "      <td>12803</td>\n",
       "      <td>19938</td>\n",
       "      <td>97620</td>\n",
       "      <td>13313</td>\n",
       "      <td>8541</td>\n",
       "      <td>47579</td>\n",
       "      <td>18621</td>\n",
       "      <td>1321</td>\n",
       "    </tr>\n",
       "    <tr>\n",
       "      <th>Regular</th>\n",
       "      <td>483302</td>\n",
       "      <td>7664</td>\n",
       "      <td>253221</td>\n",
       "      <td>2014966</td>\n",
       "      <td>35775</td>\n",
       "      <td>58790</td>\n",
       "      <td>578137</td>\n",
       "      <td>21643</td>\n",
       "      <td>187927</td>\n",
       "      <td>7557</td>\n",
       "      <td>...</td>\n",
       "      <td>153384</td>\n",
       "      <td>404292</td>\n",
       "      <td>150550</td>\n",
       "      <td>231251</td>\n",
       "      <td>1151413</td>\n",
       "      <td>156995</td>\n",
       "      <td>84989</td>\n",
       "      <td>629934</td>\n",
       "      <td>227483</td>\n",
       "      <td>14259</td>\n",
       "    </tr>\n",
       "  </tbody>\n",
       "</table>\n",
       "<p>12 rows × 21 columns</p>\n",
       "</div>"
      ],
      "text/plain": [
       "department_id                    1      2       3        4      5      6   \\\n",
       "Region    shopping_behavior                                                 \n",
       "Midwest   Early Bird          43526    757   25942   206995   1951   5119   \n",
       "          Night Owl           38992    613   18825   172218   1247   4804   \n",
       "          Regular            441578   7050  229102  1848724  32988  53813   \n",
       "Northeast Early Bird          32070    567   19912   156973   1413   3811   \n",
       "          Night Owl           29336    452   14242   131486   1021   3394   \n",
       "          Regular            329512   5566  174445  1377380  24108  39686   \n",
       "South     Early Bird          64185   1043   37631   302465   2885   7374   \n",
       "          Night Owl           54598    894   26014   243053   2020   6821   \n",
       "          Regular            629117  10275  325170  2615033  46719  74947   \n",
       "West      Early Bird          47688    787   28122   227106   2102   5632   \n",
       "          Night Owl           40839    623   19802   182892   1467   5062   \n",
       "          Regular            483302   7664  253221  2014966  35775  58790   \n",
       "\n",
       "department_id                    7      8       9     10  ...      12      13  \\\n",
       "Region    shopping_behavior                               ...                   \n",
       "Midwest   Early Bird          55226   1787   17558   747  ...   14757   38216   \n",
       "          Night Owl           40364   1700   15085   644  ...   11841   33235   \n",
       "          Regular            529984  18868  171126  6802  ...  139531  370650   \n",
       "Northeast Early Bird          43529   1765   13306   571  ...   11302   28181   \n",
       "          Night Owl           32230   1124   11350   466  ...    9064   24865   \n",
       "          Regular            407659  15712  127160  4765  ...  104254  276399   \n",
       "South     Early Bird          80897   2575   25668  1050  ...   21845   54928   \n",
       "          Night Owl           57485   1812   21056   879  ...   16794   47086   \n",
       "          Regular            760558  26882  240720  9604  ...  197113  520422   \n",
       "West      Early Bird          59751   2165   19339   764  ...   16510   41580   \n",
       "          Night Owl           42303   1683   16332   724  ...   12532   35515   \n",
       "          Regular            578137  21643  187927  7557  ...  153384  404292   \n",
       "\n",
       "department_id                    14      15       16      17      18      19  \\\n",
       "Region    shopping_behavior                                                    \n",
       "Midwest   Early Bird          16407   21294   123708   16297   11729   59088   \n",
       "          Night Owl           11700   18723    91031   12507    8736   44147   \n",
       "          Regular            135444  210685  1049484  147020   78518  570480   \n",
       "Northeast Early Bird          13180   16170    95697   12383    9489   45231   \n",
       "          Night Owl            8765   13861    69200    9084    6359   34691   \n",
       "          Regular            101629  156724   789129  110018   59291  434753   \n",
       "South     Early Bird          23332   30803   177657   22988   17865   84209   \n",
       "          Night Owl           16603   26011   127630   17031   12383   64034   \n",
       "          Regular            194316  299201  1491682  203051  113406  809103   \n",
       "West      Early Bird          18304   23397   134496   17979   12496   64301   \n",
       "          Night Owl           12803   19938    97620   13313    8541   47579   \n",
       "          Regular            150550  231251  1151413  156995   84989  629934   \n",
       "\n",
       "department_id                    20     21  \n",
       "Region    shopping_behavior                 \n",
       "Midwest   Early Bird          21329   1496  \n",
       "          Night Owl           17364   1295  \n",
       "          Regular            206985  13744  \n",
       "Northeast Early Bird          16371   1093  \n",
       "          Night Owl           13323    989  \n",
       "          Regular            157123  10292  \n",
       "South     Early Bird          31075   2093  \n",
       "          Night Owl           24135   1786  \n",
       "          Regular            294209  19314  \n",
       "West      Early Bird          23231   1463  \n",
       "          Night Owl           18621   1321  \n",
       "          Regular            227483  14259  \n",
       "\n",
       "[12 rows x 21 columns]"
      ]
     },
     "execution_count": 49,
     "metadata": {},
     "output_type": "execute_result"
    }
   ],
   "source": [
    "# View crosstable\n",
    "behavior_reg_dep_cross"
   ]
  },
  {
   "cell_type": "code",
   "execution_count": 50,
   "id": "53814c4e",
   "metadata": {},
   "outputs": [],
   "source": [
    "# Create a crosstable with shopping behavior and region\n",
    "reg_behavior_cross = pd.crosstab(df_ords_prods_all['Region'], df_ords_prods_all['shopping_behavior'])"
   ]
  },
  {
   "cell_type": "code",
   "execution_count": 51,
   "id": "699475c0",
   "metadata": {},
   "outputs": [
    {
     "data": {
      "text/html": [
       "<div>\n",
       "<style scoped>\n",
       "    .dataframe tbody tr th:only-of-type {\n",
       "        vertical-align: middle;\n",
       "    }\n",
       "\n",
       "    .dataframe tbody tr th {\n",
       "        vertical-align: top;\n",
       "    }\n",
       "\n",
       "    .dataframe thead th {\n",
       "        text-align: right;\n",
       "    }\n",
       "</style>\n",
       "<table border=\"1\" class=\"dataframe\">\n",
       "  <thead>\n",
       "    <tr style=\"text-align: right;\">\n",
       "      <th>shopping_behavior</th>\n",
       "      <th>Early Bird</th>\n",
       "      <th>Night Owl</th>\n",
       "      <th>Regular</th>\n",
       "    </tr>\n",
       "    <tr>\n",
       "      <th>Region</th>\n",
       "      <th></th>\n",
       "      <th></th>\n",
       "      <th></th>\n",
       "    </tr>\n",
       "  </thead>\n",
       "  <tbody>\n",
       "    <tr>\n",
       "      <th>Midwest</th>\n",
       "      <td>693568</td>\n",
       "      <td>552760</td>\n",
       "      <td>6350997</td>\n",
       "    </tr>\n",
       "    <tr>\n",
       "      <th>Northeast</th>\n",
       "      <td>530234</td>\n",
       "      <td>420857</td>\n",
       "      <td>4771645</td>\n",
       "    </tr>\n",
       "    <tr>\n",
       "      <th>South</th>\n",
       "      <td>1006323</td>\n",
       "      <td>779188</td>\n",
       "      <td>9006374</td>\n",
       "    </tr>\n",
       "    <tr>\n",
       "      <th>West</th>\n",
       "      <td>757501</td>\n",
       "      <td>587740</td>\n",
       "      <td>6947672</td>\n",
       "    </tr>\n",
       "  </tbody>\n",
       "</table>\n",
       "</div>"
      ],
      "text/plain": [
       "shopping_behavior  Early Bird  Night Owl  Regular\n",
       "Region                                           \n",
       "Midwest                693568     552760  6350997\n",
       "Northeast              530234     420857  4771645\n",
       "South                 1006323     779188  9006374\n",
       "West                   757501     587740  6947672"
      ]
     },
     "execution_count": 51,
     "metadata": {},
     "output_type": "execute_result"
    }
   ],
   "source": [
    "# View crosstable\n",
    "reg_behavior_cross"
   ]
  },
  {
   "cell_type": "code",
   "execution_count": 52,
   "id": "d8099e76",
   "metadata": {},
   "outputs": [],
   "source": [
    "# Create long table for clustered bar graph\n",
    "reg_behavior_long = reg_behavior_cross.reset_index().melt(id_vars = 'Region', var_name = 'shopping_behavior', value_name = 'count')"
   ]
  },
  {
   "cell_type": "code",
   "execution_count": 53,
   "id": "b7eba784",
   "metadata": {},
   "outputs": [
    {
     "data": {
      "image/png": "[encoded data removed]",
      "text/plain": [
       "<Figure size 640x480 with 1 Axes>"
      ]
     },
     "metadata": {},
     "output_type": "display_data"
    }
   ],
   "source": [
    "# Create clustered bar graph for region and shopping behavior\n",
    "reg_beh_bar = sns.barplot(x = 'Region', y = 'count', hue = 'shopping_behavior', data = reg_behavior_long, palette = ['#b03671', '#d576a4','#e8b5ce'])\n",
    "\n",
    "# Add axis, title, and legend labels\n",
    "plt.xlabel('Region')\n",
    "plt.ylabel('Order Count')\n",
    "plt.title('Relationship between Order Timing and Order Number')\n",
    "plt.legend(title = 'shopping Behavior')\n",
    "# Save Clustered Bar Graph\n",
    "plt.savefig(os.path.join(path, '04 Analysis', 'Visualizations', 'behavior_region_bar.png'))"
   ]
  },
  {
   "cell_type": "markdown",
   "id": "8bd5f721",
   "metadata": {},
   "source": [
    "## 6. Analyze customer lifestyle."
   ]
  },
  {
   "cell_type": "markdown",
   "id": "e40d61ac",
   "metadata": {},
   "source": [
    "### (1) Create a customer lifestyle flag based on income and marital status."
   ]
  },
  {
   "cell_type": "code",
   "execution_count": 54,
   "id": "282623d8",
   "metadata": {},
   "outputs": [
    {
     "data": {
      "text/plain": [
       "count    3.240486e+07\n",
       "mean     9.943773e+04\n",
       "std      4.305727e+04\n",
       "min      2.590300e+04\n",
       "25%      6.700400e+04\n",
       "50%      9.661800e+04\n",
       "75%      1.279120e+05\n",
       "max      5.939010e+05\n",
       "Name: income, dtype: float64"
      ]
     },
     "execution_count": 54,
     "metadata": {},
     "output_type": "execute_result"
    }
   ],
   "source": [
    "# Find statistics for customer incomes\n",
    "df_ords_prods_all['income'].describe()"
   ]
  },
  {
   "cell_type": "code",
   "execution_count": 55,
   "id": "7c3d2e88",
   "metadata": {},
   "outputs": [],
   "source": [
    "# Set the lifestyle flag for single, low-income\n",
    "# Low-income at or below 30k\n",
    "# Making the assumption that those living with parents and siblings are single\n",
    "df_ords_prods_all.loc[(df_ords_prods_all['Familial_Status'].isin(['single','divorced/widowed','living with parents and siblings'])) & (df_ords_prods_all['income'] <= 30000), 'lifestyle'] = 'Single, Low-income'"
   ]
  },
  {
   "cell_type": "code",
   "execution_count": 56,
   "id": "829966b6",
   "metadata": {},
   "outputs": [],
   "source": [
    "# Set the lifestyle flag for single, middle-income\n",
    "# Middle-income set between 30k and 80k\n",
    "df_ords_prods_all.loc[(df_ords_prods_all['Familial_Status'].isin(['single','divorced/widowed','living with parents and siblings'])) & (df_ords_prods_all['income'] > 30000) & (df_ords_prods_all['income'] <= 80000), 'lifestyle'] = 'Single, Middle-income'"
   ]
  },
  {
   "cell_type": "code",
   "execution_count": 57,
   "id": "1dc8f94a",
   "metadata": {},
   "outputs": [],
   "source": [
    "# Set the lifestyle flag for single, high-income\n",
    "# High-income set above 80k\n",
    "df_ords_prods_all.loc[(df_ords_prods_all['Familial_Status'].isin(['single','divorced/widowed','living with parents and siblings'])) & (df_ords_prods_all['income'] > 80000), 'lifestyle'] = 'Single, High-income'"
   ]
  },
  {
   "cell_type": "code",
   "execution_count": 58,
   "id": "e9781ed0",
   "metadata": {},
   "outputs": [],
   "source": [
    "# Set the lifestyle flag for married, low-income\n",
    "# Low-income at or below 60k\n",
    "df_ords_prods_all.loc[(df_ords_prods_all['Familial_Status'] == 'married') & (df_ords_prods_all['income'] <= 60000), 'lifestyle'] = 'Married, Low-income'"
   ]
  },
  {
   "cell_type": "code",
   "execution_count": 59,
   "id": "b97c3d80",
   "metadata": {},
   "outputs": [],
   "source": [
    "# Set the lifestyle flag for married, middle-income\n",
    "# Middle-income set between 60k and 160k\n",
    "df_ords_prods_all.loc[(df_ords_prods_all['Familial_Status'] == 'married') & (df_ords_prods_all['income'] > 60000) & (df_ords_prods_all['income'] <= 160000), 'lifestyle'] = 'Married, Middle-income'"
   ]
  },
  {
   "cell_type": "code",
   "execution_count": 60,
   "id": "ba8d3c07",
   "metadata": {},
   "outputs": [],
   "source": [
    "# Set the lifestyle flag for married, high-income\n",
    "# High-income set above 160k\n",
    "df_ords_prods_all.loc[(df_ords_prods_all['Familial_Status'] == 'married') & (df_ords_prods_all['income'] > 160000), 'lifestyle'] = 'Married, High-income'"
   ]
  },
  {
   "cell_type": "code",
   "execution_count": 61,
   "id": "9c17e26e",
   "metadata": {},
   "outputs": [
    {
     "data": {
      "text/plain": [
       "lifestyle\n",
       "Married, Middle-income    16987834\n",
       "Single, High-income        5705569\n",
       "Married, Low-income        4137146\n",
       "Single, Middle-income      3865847\n",
       "Married, High-income       1631773\n",
       "Single, Low-income           76690\n",
       "Name: count, dtype: int64"
      ]
     },
     "execution_count": 61,
     "metadata": {},
     "output_type": "execute_result"
    }
   ],
   "source": [
    "# Find value counts for lifestyle flag to check complete assignment\n",
    "df_ords_prods_all['lifestyle'].value_counts(dropna = False)"
   ]
  },
  {
   "cell_type": "code",
   "execution_count": 62,
   "id": "8ced73ac",
   "metadata": {},
   "outputs": [
    {
     "data": {
      "image/png": "[encoded data removed]",
      "text/plain": [
       "<Figure size 640x480 with 1 Axes>"
      ]
     },
     "metadata": {},
     "output_type": "display_data"
    }
   ],
   "source": [
    "# Create bar graph for lifestyle flag\n",
    "lifestyle_bar = df_ords_prods_all['lifestyle'].value_counts().sort_index().plot.bar(color = ['#892a58','#b03671','#c94f8a','#d576a4','#e19dbe','#e8b5ce'])\n",
    "# Adjust plot size\n",
    "plt.subplots_adjust(bottom = 0.4)\n",
    "# Add axis, title labels\n",
    "plt.xlabel('Lifestyle')\n",
    "plt.ylabel('Order Counts')\n",
    "plt.title('Lifestyle Order Counts')\n",
    "# Add x tick labels, position adjusted\n",
    "plt.xticks(rotation = 45, ha = 'right')\n",
    "# Save Bar Graph\n",
    "plt.savefig(os.path.join(path, '04 Analysis', 'Visualizations', 'lifestyle_order_bar.png'))"
   ]
  },
  {
   "cell_type": "markdown",
   "id": "6e047291",
   "metadata": {},
   "source": [
    "### (2) Find statistics for lifestyle based on order number."
   ]
  },
  {
   "cell_type": "code",
   "execution_count": 63,
   "id": "430465bc",
   "metadata": {},
   "outputs": [],
   "source": [
    "# Calculate statistics for lifestyle flag\n",
    "lifestyle_order_stats = df_ords_prods_all.groupby('lifestyle')['order_number'].agg(['min','max','mean'])"
   ]
  },
  {
   "cell_type": "code",
   "execution_count": 64,
   "id": "178509d3",
   "metadata": {},
   "outputs": [
    {
     "data": {
      "text/html": [
       "<div>\n",
       "<style scoped>\n",
       "    .dataframe tbody tr th:only-of-type {\n",
       "        vertical-align: middle;\n",
       "    }\n",
       "\n",
       "    .dataframe tbody tr th {\n",
       "        vertical-align: top;\n",
       "    }\n",
       "\n",
       "    .dataframe thead th {\n",
       "        text-align: right;\n",
       "    }\n",
       "</style>\n",
       "<table border=\"1\" class=\"dataframe\">\n",
       "  <thead>\n",
       "    <tr style=\"text-align: right;\">\n",
       "      <th></th>\n",
       "      <th>min</th>\n",
       "      <th>max</th>\n",
       "      <th>mean</th>\n",
       "    </tr>\n",
       "    <tr>\n",
       "      <th>lifestyle</th>\n",
       "      <th></th>\n",
       "      <th></th>\n",
       "      <th></th>\n",
       "    </tr>\n",
       "  </thead>\n",
       "  <tbody>\n",
       "    <tr>\n",
       "      <th>Married, High-income</th>\n",
       "      <td>1</td>\n",
       "      <td>99</td>\n",
       "      <td>17.650932</td>\n",
       "    </tr>\n",
       "    <tr>\n",
       "      <th>Married, Low-income</th>\n",
       "      <td>1</td>\n",
       "      <td>99</td>\n",
       "      <td>16.380485</td>\n",
       "    </tr>\n",
       "    <tr>\n",
       "      <th>Married, Middle-income</th>\n",
       "      <td>1</td>\n",
       "      <td>99</td>\n",
       "      <td>17.206611</td>\n",
       "    </tr>\n",
       "    <tr>\n",
       "      <th>Single, High-income</th>\n",
       "      <td>1</td>\n",
       "      <td>99</td>\n",
       "      <td>17.395931</td>\n",
       "    </tr>\n",
       "    <tr>\n",
       "      <th>Single, Low-income</th>\n",
       "      <td>1</td>\n",
       "      <td>99</td>\n",
       "      <td>14.434907</td>\n",
       "    </tr>\n",
       "    <tr>\n",
       "      <th>Single, Middle-income</th>\n",
       "      <td>1</td>\n",
       "      <td>99</td>\n",
       "      <td>17.139695</td>\n",
       "    </tr>\n",
       "  </tbody>\n",
       "</table>\n",
       "</div>"
      ],
      "text/plain": [
       "                        min  max       mean\n",
       "lifestyle                                  \n",
       "Married, High-income      1   99  17.650932\n",
       "Married, Low-income       1   99  16.380485\n",
       "Married, Middle-income    1   99  17.206611\n",
       "Single, High-income       1   99  17.395931\n",
       "Single, Low-income        1   99  14.434907\n",
       "Single, Middle-income     1   99  17.139695"
      ]
     },
     "execution_count": 64,
     "metadata": {},
     "output_type": "execute_result"
    }
   ],
   "source": [
    "# View table\n",
    "lifestyle_order_stats"
   ]
  },
  {
   "cell_type": "markdown",
   "id": "77f3d555",
   "metadata": {},
   "source": [
    "### (3) Find statistics for shopping behavior based on expenditure."
   ]
  },
  {
   "cell_type": "code",
   "execution_count": 65,
   "id": "aba06052",
   "metadata": {},
   "outputs": [],
   "source": [
    "# Find the expenditure for each customer for each order\n",
    "lifestyle_order_totals = df_ords_prods_all.groupby(['lifestyle', 'user_id', 'order_number'])['prices'].sum().reset_index()"
   ]
  },
  {
   "cell_type": "code",
   "execution_count": 66,
   "id": "92d7e44f",
   "metadata": {},
   "outputs": [
    {
     "data": {
      "text/html": [
       "<div>\n",
       "<style scoped>\n",
       "    .dataframe tbody tr th:only-of-type {\n",
       "        vertical-align: middle;\n",
       "    }\n",
       "\n",
       "    .dataframe tbody tr th {\n",
       "        vertical-align: top;\n",
       "    }\n",
       "\n",
       "    .dataframe thead th {\n",
       "        text-align: right;\n",
       "    }\n",
       "</style>\n",
       "<table border=\"1\" class=\"dataframe\">\n",
       "  <thead>\n",
       "    <tr style=\"text-align: right;\">\n",
       "      <th></th>\n",
       "      <th>lifestyle</th>\n",
       "      <th>user_id</th>\n",
       "      <th>order_number</th>\n",
       "      <th>prices</th>\n",
       "    </tr>\n",
       "  </thead>\n",
       "  <tbody>\n",
       "    <tr>\n",
       "      <th>0</th>\n",
       "      <td>Married, High-income</td>\n",
       "      <td>54</td>\n",
       "      <td>1</td>\n",
       "      <td>94.9</td>\n",
       "    </tr>\n",
       "    <tr>\n",
       "      <th>1</th>\n",
       "      <td>Married, High-income</td>\n",
       "      <td>54</td>\n",
       "      <td>2</td>\n",
       "      <td>120.7</td>\n",
       "    </tr>\n",
       "    <tr>\n",
       "      <th>2</th>\n",
       "      <td>Married, High-income</td>\n",
       "      <td>54</td>\n",
       "      <td>3</td>\n",
       "      <td>99.9</td>\n",
       "    </tr>\n",
       "    <tr>\n",
       "      <th>3</th>\n",
       "      <td>Married, High-income</td>\n",
       "      <td>54</td>\n",
       "      <td>4</td>\n",
       "      <td>47.1</td>\n",
       "    </tr>\n",
       "    <tr>\n",
       "      <th>4</th>\n",
       "      <td>Married, High-income</td>\n",
       "      <td>54</td>\n",
       "      <td>5</td>\n",
       "      <td>28.2</td>\n",
       "    </tr>\n",
       "    <tr>\n",
       "      <th>...</th>\n",
       "      <td>...</td>\n",
       "      <td>...</td>\n",
       "      <td>...</td>\n",
       "      <td>...</td>\n",
       "    </tr>\n",
       "    <tr>\n",
       "      <th>3214680</th>\n",
       "      <td>Single, Middle-income</td>\n",
       "      <td>206193</td>\n",
       "      <td>37</td>\n",
       "      <td>124.6</td>\n",
       "    </tr>\n",
       "    <tr>\n",
       "      <th>3214681</th>\n",
       "      <td>Single, Middle-income</td>\n",
       "      <td>206193</td>\n",
       "      <td>38</td>\n",
       "      <td>153.3</td>\n",
       "    </tr>\n",
       "    <tr>\n",
       "      <th>3214682</th>\n",
       "      <td>Single, Middle-income</td>\n",
       "      <td>206193</td>\n",
       "      <td>39</td>\n",
       "      <td>55.1</td>\n",
       "    </tr>\n",
       "    <tr>\n",
       "      <th>3214683</th>\n",
       "      <td>Single, Middle-income</td>\n",
       "      <td>206193</td>\n",
       "      <td>40</td>\n",
       "      <td>120.0</td>\n",
       "    </tr>\n",
       "    <tr>\n",
       "      <th>3214684</th>\n",
       "      <td>Single, Middle-income</td>\n",
       "      <td>206193</td>\n",
       "      <td>41</td>\n",
       "      <td>156.0</td>\n",
       "    </tr>\n",
       "  </tbody>\n",
       "</table>\n",
       "<p>3214685 rows × 4 columns</p>\n",
       "</div>"
      ],
      "text/plain": [
       "                     lifestyle  user_id  order_number  prices\n",
       "0         Married, High-income       54             1    94.9\n",
       "1         Married, High-income       54             2   120.7\n",
       "2         Married, High-income       54             3    99.9\n",
       "3         Married, High-income       54             4    47.1\n",
       "4         Married, High-income       54             5    28.2\n",
       "...                        ...      ...           ...     ...\n",
       "3214680  Single, Middle-income   206193            37   124.6\n",
       "3214681  Single, Middle-income   206193            38   153.3\n",
       "3214682  Single, Middle-income   206193            39    55.1\n",
       "3214683  Single, Middle-income   206193            40   120.0\n",
       "3214684  Single, Middle-income   206193            41   156.0\n",
       "\n",
       "[3214685 rows x 4 columns]"
      ]
     },
     "execution_count": 66,
     "metadata": {},
     "output_type": "execute_result"
    }
   ],
   "source": [
    "# View the order expenditures\n",
    "lifestyle_order_totals"
   ]
  },
  {
   "cell_type": "code",
   "execution_count": 67,
   "id": "776669fb",
   "metadata": {},
   "outputs": [],
   "source": [
    "# Find the expenditure statistics for each customer\n",
    "lifestyle_shopper_total = lifestyle_order_totals.groupby(['lifestyle','user_id',])['prices'].agg(['min','max','mean']).reset_index()"
   ]
  },
  {
   "cell_type": "code",
   "execution_count": 68,
   "id": "7cf0b96e",
   "metadata": {},
   "outputs": [
    {
     "data": {
      "text/html": [
       "<div>\n",
       "<style scoped>\n",
       "    .dataframe tbody tr th:only-of-type {\n",
       "        vertical-align: middle;\n",
       "    }\n",
       "\n",
       "    .dataframe tbody tr th {\n",
       "        vertical-align: top;\n",
       "    }\n",
       "\n",
       "    .dataframe thead th {\n",
       "        text-align: right;\n",
       "    }\n",
       "</style>\n",
       "<table border=\"1\" class=\"dataframe\">\n",
       "  <thead>\n",
       "    <tr style=\"text-align: right;\">\n",
       "      <th></th>\n",
       "      <th>lifestyle</th>\n",
       "      <th>user_id</th>\n",
       "      <th>min</th>\n",
       "      <th>max</th>\n",
       "      <th>mean</th>\n",
       "    </tr>\n",
       "  </thead>\n",
       "  <tbody>\n",
       "    <tr>\n",
       "      <th>0</th>\n",
       "      <td>Married, High-income</td>\n",
       "      <td>54</td>\n",
       "      <td>5.8</td>\n",
       "      <td>189.5</td>\n",
       "      <td>69.085714</td>\n",
       "    </tr>\n",
       "    <tr>\n",
       "      <th>1</th>\n",
       "      <td>Married, High-income</td>\n",
       "      <td>61</td>\n",
       "      <td>84.2</td>\n",
       "      <td>225.2</td>\n",
       "      <td>155.025000</td>\n",
       "    </tr>\n",
       "    <tr>\n",
       "      <th>2</th>\n",
       "      <td>Married, High-income</td>\n",
       "      <td>110</td>\n",
       "      <td>69.0</td>\n",
       "      <td>202.5</td>\n",
       "      <td>129.000000</td>\n",
       "    </tr>\n",
       "    <tr>\n",
       "      <th>3</th>\n",
       "      <td>Married, High-income</td>\n",
       "      <td>175</td>\n",
       "      <td>7.4</td>\n",
       "      <td>131.1</td>\n",
       "      <td>40.839130</td>\n",
       "    </tr>\n",
       "    <tr>\n",
       "      <th>4</th>\n",
       "      <td>Married, High-income</td>\n",
       "      <td>190</td>\n",
       "      <td>16.2</td>\n",
       "      <td>235.3</td>\n",
       "      <td>83.976471</td>\n",
       "    </tr>\n",
       "    <tr>\n",
       "      <th>...</th>\n",
       "      <td>...</td>\n",
       "      <td>...</td>\n",
       "      <td>...</td>\n",
       "      <td>...</td>\n",
       "      <td>...</td>\n",
       "    </tr>\n",
       "    <tr>\n",
       "      <th>206204</th>\n",
       "      <td>Single, Middle-income</td>\n",
       "      <td>206175</td>\n",
       "      <td>45.9</td>\n",
       "      <td>96.0</td>\n",
       "      <td>72.416667</td>\n",
       "    </tr>\n",
       "    <tr>\n",
       "      <th>206205</th>\n",
       "      <td>Single, Middle-income</td>\n",
       "      <td>206185</td>\n",
       "      <td>13.2</td>\n",
       "      <td>101.2</td>\n",
       "      <td>58.550000</td>\n",
       "    </tr>\n",
       "    <tr>\n",
       "      <th>206206</th>\n",
       "      <td>Single, Middle-income</td>\n",
       "      <td>206186</td>\n",
       "      <td>77.6</td>\n",
       "      <td>111.0</td>\n",
       "      <td>91.400000</td>\n",
       "    </tr>\n",
       "    <tr>\n",
       "      <th>206207</th>\n",
       "      <td>Single, Middle-income</td>\n",
       "      <td>206188</td>\n",
       "      <td>2.6</td>\n",
       "      <td>92.4</td>\n",
       "      <td>59.957143</td>\n",
       "    </tr>\n",
       "    <tr>\n",
       "      <th>206208</th>\n",
       "      <td>Single, Middle-income</td>\n",
       "      <td>206193</td>\n",
       "      <td>1.7</td>\n",
       "      <td>156.0</td>\n",
       "      <td>63.065854</td>\n",
       "    </tr>\n",
       "  </tbody>\n",
       "</table>\n",
       "<p>206209 rows × 5 columns</p>\n",
       "</div>"
      ],
      "text/plain": [
       "                    lifestyle  user_id   min    max        mean\n",
       "0        Married, High-income       54   5.8  189.5   69.085714\n",
       "1        Married, High-income       61  84.2  225.2  155.025000\n",
       "2        Married, High-income      110  69.0  202.5  129.000000\n",
       "3        Married, High-income      175   7.4  131.1   40.839130\n",
       "4        Married, High-income      190  16.2  235.3   83.976471\n",
       "...                       ...      ...   ...    ...         ...\n",
       "206204  Single, Middle-income   206175  45.9   96.0   72.416667\n",
       "206205  Single, Middle-income   206185  13.2  101.2   58.550000\n",
       "206206  Single, Middle-income   206186  77.6  111.0   91.400000\n",
       "206207  Single, Middle-income   206188   2.6   92.4   59.957143\n",
       "206208  Single, Middle-income   206193   1.7  156.0   63.065854\n",
       "\n",
       "[206209 rows x 5 columns]"
      ]
     },
     "execution_count": 68,
     "metadata": {},
     "output_type": "execute_result"
    }
   ],
   "source": [
    "# View the expenditure statistics for each customer\n",
    "lifestyle_shopper_total"
   ]
  },
  {
   "cell_type": "code",
   "execution_count": 69,
   "id": "1d33b7b0",
   "metadata": {},
   "outputs": [],
   "source": [
    "# Find the expenditure statistics for each flag\n",
    "lifestyle_price_stats = lifestyle_shopper_total.groupby('lifestyle').agg({'min':'min','max':'max','mean':'mean'}).reset_index()"
   ]
  },
  {
   "cell_type": "code",
   "execution_count": 70,
   "id": "0b23aa70",
   "metadata": {},
   "outputs": [
    {
     "data": {
      "text/html": [
       "<div>\n",
       "<style scoped>\n",
       "    .dataframe tbody tr th:only-of-type {\n",
       "        vertical-align: middle;\n",
       "    }\n",
       "\n",
       "    .dataframe tbody tr th {\n",
       "        vertical-align: top;\n",
       "    }\n",
       "\n",
       "    .dataframe thead th {\n",
       "        text-align: right;\n",
       "    }\n",
       "</style>\n",
       "<table border=\"1\" class=\"dataframe\">\n",
       "  <thead>\n",
       "    <tr style=\"text-align: right;\">\n",
       "      <th></th>\n",
       "      <th>lifestyle</th>\n",
       "      <th>min</th>\n",
       "      <th>max</th>\n",
       "      <th>mean</th>\n",
       "    </tr>\n",
       "  </thead>\n",
       "  <tbody>\n",
       "    <tr>\n",
       "      <th>0</th>\n",
       "      <td>Married, High-income</td>\n",
       "      <td>1.0</td>\n",
       "      <td>1047.4</td>\n",
       "      <td>85.632264</td>\n",
       "    </tr>\n",
       "    <tr>\n",
       "      <th>1</th>\n",
       "      <td>Married, Low-income</td>\n",
       "      <td>1.0</td>\n",
       "      <td>842.1</td>\n",
       "      <td>56.831541</td>\n",
       "    </tr>\n",
       "    <tr>\n",
       "      <th>2</th>\n",
       "      <td>Married, Middle-income</td>\n",
       "      <td>1.0</td>\n",
       "      <td>1092.2</td>\n",
       "      <td>84.135409</td>\n",
       "    </tr>\n",
       "    <tr>\n",
       "      <th>3</th>\n",
       "      <td>Single, High-income</td>\n",
       "      <td>1.0</td>\n",
       "      <td>736.7</td>\n",
       "      <td>83.827359</td>\n",
       "    </tr>\n",
       "    <tr>\n",
       "      <th>4</th>\n",
       "      <td>Single, Low-income</td>\n",
       "      <td>1.0</td>\n",
       "      <td>712.0</td>\n",
       "      <td>47.127179</td>\n",
       "    </tr>\n",
       "    <tr>\n",
       "      <th>5</th>\n",
       "      <td>Single, Middle-income</td>\n",
       "      <td>1.0</td>\n",
       "      <td>875.0</td>\n",
       "      <td>70.143308</td>\n",
       "    </tr>\n",
       "  </tbody>\n",
       "</table>\n",
       "</div>"
      ],
      "text/plain": [
       "                lifestyle  min     max       mean\n",
       "0    Married, High-income  1.0  1047.4  85.632264\n",
       "1     Married, Low-income  1.0   842.1  56.831541\n",
       "2  Married, Middle-income  1.0  1092.2  84.135409\n",
       "3     Single, High-income  1.0   736.7  83.827359\n",
       "4      Single, Low-income  1.0   712.0  47.127179\n",
       "5   Single, Middle-income  1.0   875.0  70.143308"
      ]
     },
     "execution_count": 70,
     "metadata": {},
     "output_type": "execute_result"
    }
   ],
   "source": [
    "# View the expenditure statistics for each flag\n",
    "lifestyle_price_stats"
   ]
  },
  {
   "cell_type": "code",
   "execution_count": 71,
   "id": "97dce34c",
   "metadata": {},
   "outputs": [
    {
     "data": {
      "image/png": "[encoded data removed]",
      "text/plain": [
       "<Figure size 640x480 with 1 Axes>"
      ]
     },
     "metadata": {},
     "output_type": "display_data"
    }
   ],
   "source": [
    "# Create bar graph for average order expenditure per lifestyle\n",
    "lifestyle_price_bar = sns.barplot(x = 'lifestyle', y = 'mean', data = lifestyle_price_stats, palette = ['#892a58','#b03671','#c94f8a','#d576a4','#e19dbe','#e8b5ce'])\n",
    "# Adjust plot size\n",
    "plt.subplots_adjust(bottom = 0.4)\n",
    "# Add axis labels\n",
    "plt.xlabel('Lifestyle')\n",
    "plt.ylabel('Average Expenditure')\n",
    "plt.title('Average Expenditure per Lifestyle')\n",
    "# Add x tick labels, position adjusted\n",
    "plt.xticks(rotation = 45, ha = 'right')\n",
    "# Save Bar Graph\n",
    "plt.savefig(os.path.join(path, '04 Analysis', 'Visualizations', 'lifestyle_spend_bar.png'))"
   ]
  },
  {
   "cell_type": "markdown",
   "id": "d19a564a",
   "metadata": {},
   "source": [
    "### (4) Analyze customer shopping bahavior by region."
   ]
  },
  {
   "cell_type": "code",
   "execution_count": 72,
   "id": "da1a678d",
   "metadata": {},
   "outputs": [],
   "source": [
    "# Create crosstable for lifestyle and region\n",
    "lifestyle_reg_cross = pd.crosstab(df_ords_prods_all['Region'], df_ords_prods_all['lifestyle'], dropna = False)"
   ]
  },
  {
   "cell_type": "code",
   "execution_count": 73,
   "id": "02912882",
   "metadata": {},
   "outputs": [
    {
     "data": {
      "text/html": [
       "<div>\n",
       "<style scoped>\n",
       "    .dataframe tbody tr th:only-of-type {\n",
       "        vertical-align: middle;\n",
       "    }\n",
       "\n",
       "    .dataframe tbody tr th {\n",
       "        vertical-align: top;\n",
       "    }\n",
       "\n",
       "    .dataframe thead th {\n",
       "        text-align: right;\n",
       "    }\n",
       "</style>\n",
       "<table border=\"1\" class=\"dataframe\">\n",
       "  <thead>\n",
       "    <tr style=\"text-align: right;\">\n",
       "      <th>lifestyle</th>\n",
       "      <th>Married, High-income</th>\n",
       "      <th>Married, Low-income</th>\n",
       "      <th>Married, Middle-income</th>\n",
       "      <th>Single, High-income</th>\n",
       "      <th>Single, Low-income</th>\n",
       "      <th>Single, Middle-income</th>\n",
       "    </tr>\n",
       "    <tr>\n",
       "      <th>Region</th>\n",
       "      <th></th>\n",
       "      <th></th>\n",
       "      <th></th>\n",
       "      <th></th>\n",
       "      <th></th>\n",
       "      <th></th>\n",
       "    </tr>\n",
       "  </thead>\n",
       "  <tbody>\n",
       "    <tr>\n",
       "      <th>Midwest</th>\n",
       "      <td>392297</td>\n",
       "      <td>965355</td>\n",
       "      <td>3967956</td>\n",
       "      <td>1361313</td>\n",
       "      <td>20680</td>\n",
       "      <td>889724</td>\n",
       "    </tr>\n",
       "    <tr>\n",
       "      <th>Northeast</th>\n",
       "      <td>293544</td>\n",
       "      <td>725290</td>\n",
       "      <td>3017487</td>\n",
       "      <td>992904</td>\n",
       "      <td>11314</td>\n",
       "      <td>682197</td>\n",
       "    </tr>\n",
       "    <tr>\n",
       "      <th>South</th>\n",
       "      <td>538233</td>\n",
       "      <td>1400520</td>\n",
       "      <td>5621889</td>\n",
       "      <td>1893507</td>\n",
       "      <td>25316</td>\n",
       "      <td>1312420</td>\n",
       "    </tr>\n",
       "    <tr>\n",
       "      <th>West</th>\n",
       "      <td>407699</td>\n",
       "      <td>1045981</td>\n",
       "      <td>4380502</td>\n",
       "      <td>1457845</td>\n",
       "      <td>19380</td>\n",
       "      <td>981506</td>\n",
       "    </tr>\n",
       "  </tbody>\n",
       "</table>\n",
       "</div>"
      ],
      "text/plain": [
       "lifestyle  Married, High-income  Married, Low-income  Married, Middle-income  \\\n",
       "Region                                                                         \n",
       "Midwest                  392297               965355                 3967956   \n",
       "Northeast                293544               725290                 3017487   \n",
       "South                    538233              1400520                 5621889   \n",
       "West                     407699              1045981                 4380502   \n",
       "\n",
       "lifestyle  Single, High-income  Single, Low-income  Single, Middle-income  \n",
       "Region                                                                     \n",
       "Midwest                1361313               20680                 889724  \n",
       "Northeast               992904               11314                 682197  \n",
       "South                  1893507               25316                1312420  \n",
       "West                   1457845               19380                 981506  "
      ]
     },
     "execution_count": 73,
     "metadata": {},
     "output_type": "execute_result"
    }
   ],
   "source": [
    "# View crosstable\n",
    "lifestyle_reg_cross"
   ]
  },
  {
   "cell_type": "code",
   "execution_count": 74,
   "id": "da8df232",
   "metadata": {},
   "outputs": [],
   "source": [
    "# Create long table for clustered bar graph\n",
    "reg_lifestyle_long = lifestyle_reg_cross.reset_index().melt(id_vars = 'Region', var_name = 'lifestyle', value_name = 'count')"
   ]
  },
  {
   "cell_type": "code",
   "execution_count": 75,
   "id": "e46186e8",
   "metadata": {},
   "outputs": [
    {
     "data": {
      "image/png": "[encoded data removed]",
      "text/plain": [
       "<Figure size 640x480 with 1 Axes>"
      ]
     },
     "metadata": {},
     "output_type": "display_data"
    }
   ],
   "source": [
    "# Create clustered bar graph for region and lifestyle\n",
    "reg_life_bar = sns.barplot(x = 'Region', y = 'count', hue = 'lifestyle', data = reg_lifestyle_long, palette = ['#892a58','#b03671','#c94f8a','#d576a4','#e19dbe','#e8b5ce'])\n",
    "# Add axis, legend, and title labels\n",
    "plt.xlabel('Region')\n",
    "plt.ylabel('Order Count')\n",
    "plt.title('Order Behavior by Lifestyle and Region')\n",
    "# Save Clustered Bar Graph\n",
    "plt.savefig(os.path.join(path, '04 Analysis', 'Visualizations', 'lifestyle_region_bar.png'))"
   ]
  },
  {
   "cell_type": "markdown",
   "id": "1d1e289c",
   "metadata": {},
   "source": [
    "## 7. Export tables and plots."
   ]
  },
  {
   "cell_type": "code",
   "execution_count": 76,
   "id": "a1e085ef",
   "metadata": {},
   "outputs": [],
   "source": [
    "shopping_behavior_bar.figure.savefig(os.path.join(path, '04 Analysis','Visualizations', 'shopping_behavior_bar.png'))"
   ]
  },
  {
   "cell_type": "code",
   "execution_count": 77,
   "id": "460cb205",
   "metadata": {},
   "outputs": [],
   "source": [
    "dep_beh_bar.figure.savefig(os.path.join(path, '04 Analysis','Visualizations', 'department_behavior_bar.png'))"
   ]
  },
  {
   "cell_type": "code",
   "execution_count": 78,
   "id": "819cff4c",
   "metadata": {},
   "outputs": [],
   "source": [
    "df_ords_prods_all.to_pickle(os.path.join(path, '02 Data', 'Prepared Data', 'orders_products_all.pkl'))"
   ]
  },
  {
   "cell_type": "code",
   "execution_count": 79,
   "id": "a6405e3d",
   "metadata": {},
   "outputs": [],
   "source": [
    "behavior_table = df_ords_prods_all['shopping_behavior'].value_counts()"
   ]
  },
  {
   "cell_type": "code",
   "execution_count": 80,
   "id": "8ed3bc3e",
   "metadata": {},
   "outputs": [],
   "source": [
    "behavior_table.to_clipboard()"
   ]
  },
  {
   "cell_type": "code",
   "execution_count": 81,
   "id": "0f5a6995",
   "metadata": {},
   "outputs": [],
   "source": [
    "lifestyle_table = df_ords_prods_all['lifestyle'].value_counts()"
   ]
  },
  {
   "cell_type": "code",
   "execution_count": 82,
   "id": "89f881a7",
   "metadata": {},
   "outputs": [],
   "source": [
    "lifestyle_table.to_clipboard()"
   ]
  },
  {
   "cell_type": "code",
   "execution_count": 83,
   "id": "873a9276",
   "metadata": {},
   "outputs": [],
   "source": [
    "price_range_table = df_ords_prods_all['price_range_loc'].value_counts()"
   ]
  },
  {
   "cell_type": "code",
   "execution_count": 84,
   "id": "dbf2e2aa",
   "metadata": {},
   "outputs": [],
   "source": [
    "price_range_table.to_clipboard()"
   ]
  },
  {
   "cell_type": "code",
   "execution_count": 85,
   "id": "4d561239",
   "metadata": {},
   "outputs": [],
   "source": [
    "busiest_table = df_ords_prods_all['busiest_days'].value_counts()"
   ]
  },
  {
   "cell_type": "code",
   "execution_count": 86,
   "id": "57d31949",
   "metadata": {},
   "outputs": [],
   "source": [
    "busiest_table.to_clipboard()"
   ]
  },
  {
   "cell_type": "code",
   "execution_count": 87,
   "id": "47ffe5c4",
   "metadata": {},
   "outputs": [],
   "source": [
    "busiest_period_table = df_ords_prods_all['busiest_period_of_day'].value_counts()"
   ]
  },
  {
   "cell_type": "code",
   "execution_count": 88,
   "id": "7b34e989",
   "metadata": {},
   "outputs": [],
   "source": [
    "busiest_period_table.to_clipboard()"
   ]
  },
  {
   "cell_type": "code",
   "execution_count": 89,
   "id": "6f7b4438",
   "metadata": {},
   "outputs": [],
   "source": [
    "loyalty_table = df_ords_prods_all['loyalty_flag'].value_counts()"
   ]
  },
  {
   "cell_type": "code",
   "execution_count": 90,
   "id": "2c074b49",
   "metadata": {},
   "outputs": [],
   "source": [
    "loyalty_table.to_clipboard()"
   ]
  },
  {
   "cell_type": "code",
   "execution_count": 91,
   "id": "af92c7f3",
   "metadata": {},
   "outputs": [],
   "source": [
    "spending_table = df_ords_prods_all['spending flag'].value_counts()"
   ]
  },
  {
   "cell_type": "code",
   "execution_count": 92,
   "id": "e2ca155a",
   "metadata": {},
   "outputs": [],
   "source": [
    "spending_table.to_clipboard()"
   ]
  },
  {
   "cell_type": "code",
   "execution_count": 93,
   "id": "641eb7cb",
   "metadata": {},
   "outputs": [],
   "source": [
    "frequency_table = df_ords_prods_all['order frequency flag'].value_counts()"
   ]
  },
  {
   "cell_type": "code",
   "execution_count": 94,
   "id": "4dc2f866",
   "metadata": {},
   "outputs": [],
   "source": [
    "frequency_table.to_clipboard()"
   ]
  },
  {
   "cell_type": "code",
   "execution_count": null,
   "id": "46a41264",
   "metadata": {},
   "outputs": [],
   "source": []
  }
 ],
 "metadata": {
  "kernelspec": {
   "display_name": "Python 3 (ipykernel)",
   "language": "python",
   "name": "python3"
  },
  "language_info": {
   "codemirror_mode": {
    "name": "ipython",
    "version": 3
   },
   "file_extension": ".py",
   "mimetype": "text/x-python",
   "name": "python",
   "nbconvert_exporter": "python",
   "pygments_lexer": "ipython3",
   "version": "3.11.5"
  }
 },
 "nbformat": 4,
 "nbformat_minor": 5
}
